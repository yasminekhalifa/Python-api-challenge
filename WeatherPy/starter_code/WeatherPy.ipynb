{
 "cells": [
  {
   "cell_type": "markdown",
   "metadata": {},
   "source": [
    "# WeatherPy\n",
    "----\n",
    "\n",
    "#### Note\n",
    "* Instructions have been included for each segment. You do not have to follow them exactly, but they are included to help you think through the steps."
   ]
  },
  {
   "cell_type": "code",
   "execution_count": 1,
   "metadata": {
    "scrolled": true
   },
   "outputs": [],
   "source": [
    "# Dependencies and Setup\n",
    "import matplotlib.pyplot as plt\n",
    "import pandas as pd\n",
    "import numpy as np\n",
    "import requests\n",
    "import time\n",
    "import csv\n",
    "from scipy.stats import linregress\n",
    "\n",
    "# Import API key\n",
    "from api_keys import weather_api_key\n",
    "\n",
    "# Incorporated citipy to determine city based on latitude and longitude\n",
    "from citipy import citipy\n",
    "\n",
    "# Output File (CSV)\n",
    "output_data_file = \"output_data/cities.csv\"\n",
    "\n",
    "# Range of latitudes and longitudes\n",
    "lat_range = (-90, 90)\n",
    "lng_range = (-180, 180)"
   ]
  },
  {
   "cell_type": "markdown",
   "metadata": {},
   "source": [
    "## Generate Cities List"
   ]
  },
  {
   "cell_type": "code",
   "execution_count": 25,
   "metadata": {},
   "outputs": [
    {
     "data": {
      "text/plain": [
       "580"
      ]
     },
     "execution_count": 25,
     "metadata": {},
     "output_type": "execute_result"
    }
   ],
   "source": [
    "# List for holding lat_lngs and cities\n",
    "lat_lngs = []\n",
    "cities = []\n",
    "\n",
    "# Create a set of random lat and lng combinations\n",
    "lats = np.random.uniform(lat_range[0], lat_range[1], size=1500)\n",
    "lngs = np.random.uniform(lng_range[0], lng_range[1], size=1500)\n",
    "lat_lngs = zip(lats, lngs)\n",
    "\n",
    "# Identify nearest city for each lat, lng combination\n",
    "for lat_lng in lat_lngs:\n",
    "    city = citipy.nearest_city(lat_lng[0], lat_lng[1]).city_name\n",
    "    \n",
    "    # If the city is unique, then add it to a our cities list\n",
    "    if city not in cities:\n",
    "        cities.append(city)\n",
    "\n",
    "# Print the city count to confirm sufficient count\n",
    "len(cities)"
   ]
  },
  {
   "cell_type": "markdown",
   "metadata": {},
   "source": [
    "### Perform API Calls\n",
    "* Perform a weather check on each city using a series of successive API calls.\n",
    "* Include a print log of each city as it'sbeing processed (with the city number and city name).\n"
   ]
  },
  {
   "cell_type": "code",
   "execution_count": 26,
   "metadata": {},
   "outputs": [
    {
     "name": "stdout",
     "output_type": "stream",
     "text": [
      "Punta Arenas 3874787\n",
      "Vasil'sursk 476732\n",
      "Ushuaia 3833367\n",
      "Rikitea 4030556\n",
      "Coyhaique 3894426\n",
      "Bluff 2206939\n",
      "Bolintin Deal 684269\n",
      "Tiksi 2015306\n",
      "Bhilwara 1275960\n",
      "Iqaluit 5983720\n",
      "Vestmannaeyjar 3412093\n",
      "Busselton 2075265\n",
      "Butaritari 2110227\n",
      "Puerto Ayora 3652764\n",
      "Meulaboh 1214488\n",
      "Avarua 4035715\n",
      "Pevek 2122090\n",
      "Tasiilaq 3424607\n",
      "Calvià 2520493\n",
      "Lagoa 3372964\n",
      "Longyearbyen 2729907\n",
      "Belmonte 3470137\n",
      "Arraial do Cabo 3471451\n",
      "Lebu 3883457\n",
      "Lompoc 5367788\n",
      "Makkah al Mukarramah 104515\n",
      "Dingle 1714733\n",
      "Brae 2654970\n",
      "Albany 5106841\n",
      "Muros 3115824\n",
      "Leshukonskoye 535839\n",
      "Hermanus 3366880\n",
      "Ribeira Grande 3372707\n",
      "Cururupu 3401148\n",
      "Jamestown 5122534\n",
      "Yaguajay 3533826\n",
      "Yangi Marg`ilon 1513491\n",
      "Cape Town 3369157\n",
      "Mar del Plata 3430863\n",
      "Belinsky 578045\n",
      "Barrow 5880054\n",
      "Port Elizabeth 964420\n",
      "Jiazi 1805935\n",
      "Gremyachinsk 558885\n",
      "Vila Franca do Campo 3372472\n",
      "Mataura 6201424\n",
      "Guane 3557758\n",
      "San Patricio 3985168\n",
      "Shelopugino 2016757\n",
      "Jiayuguan City 1280957\n",
      "Castro 3466704\n",
      "Polunochnoye 1494482\n",
      "Matamoros 3996426\n",
      "Fortuna 5563839\n",
      "Qaanaaq 3831208\n",
      "Hopkinsville 4295251\n",
      "Wanning 1791779\n",
      "Ahipara 2194098\n",
      "Rochegda 501847\n",
      "Hakodate 2130188\n",
      "Hithadhoo 1282256\n",
      "Washougal 5815136\n",
      "Clyde River 5924351\n",
      "Yanam 1252795\n",
      "Lavrentiya 4031637\n",
      "Tuktoyaktuk 6170031\n",
      "Mount Gambier 2156643\n",
      "Thompson 6165406\n",
      "Biu 2346995\n",
      "Bambous Virieux 1106677\n",
      "Mahajanga 1062663\n",
      "Port Lincoln 2063036\n",
      "Prince Rupert 6113406\n",
      "Lubumbashi 922704\n",
      "Saint George 5546220\n",
      "Gambiran 8070858\n",
      "Kapaa 5848280\n",
      "Codrington 2171099\n",
      "Mazagão 3395042\n",
      "Saint Paul Harbor 5866583\n",
      "Gweta 933734\n",
      "Protvino 504576\n",
      "Shenandoah 4341378\n",
      "Vaini 4032243\n",
      "Teahupoo 4033543\n",
      "Fairbanks 5861897\n",
      "Altay 1529651\n",
      "Bilibino 2126682\n",
      "San Quintín 3984997\n",
      "Banda Aceh 1215502\n",
      "Arlit 2447513\n",
      "Esperance 2071860\n",
      "Port Alfred 964432\n",
      "Marrakesh 2542997\n",
      "Carutapera 3402648\n",
      "Acapulco de Juárez 3533462\n",
      "Redmond 5808079\n",
      "Atuona 4020109\n",
      "Padang 1633419\n",
      "Baykit 1510689\n",
      "Hobart 2163355\n",
      "Supaul 1255396\n",
      "Ixtapa 4004293\n",
      "Derzhavīnsk 1524606\n",
      "Gumi 1842225\n",
      "Ilulissat 3423146\n",
      "Sumter 4174301\n",
      "Buala 2109528\n",
      "Bonwapitse 933471\n",
      "Cidreira 3466165\n",
      "Pesaro 3171173\n",
      "Dossor 610023\n",
      "Bethel 5282297\n",
      "Waitara 2208091\n",
      "Saskylakh 2017155\n",
      "Half Moon Bay 5354943\n",
      "Torbay 6167817\n",
      "Chara 2025630\n",
      "Upernavik 3418910\n",
      "Faanui 4034551\n",
      "Jardim 3460087\n",
      "New Norfolk 2155415\n",
      "Ponta do Sol 2264557\n",
      "Isla Mujeres 3526756\n",
      "Sitka 5557293\n",
      "Wexford 2960964\n",
      "Thinadhoo 1337610\n",
      "Nehe 2035610\n",
      "Boueni 1090467\n",
      "Bubaque 2374583\n",
      "Inírida 3671450\n",
      "Kiryat Gat 293842\n",
      "Shumskiy 1491977\n",
      "Alofi 4036284\n",
      "Gigmoto 1712961\n",
      "Chifeng 2038067\n",
      "Touros 3386213\n",
      "Saldanha 3361934\n",
      "Karaton 1630058\n",
      "Batagay-Alyta 2027042\n",
      "Mlandizi 153412\n",
      "Englehart 5948844\n",
      "Aktau 610612\n",
      "Mitú 3674676\n",
      "Bredasdorp 1015776\n",
      "Khatanga 2022572\n",
      "Cayenne 3382160\n",
      "Vostok 2013279\n",
      "Erzin 296852\n",
      "Tucuruí 3385935\n",
      "Charters Towers 2171722\n",
      "Asău 686090\n",
      "Hong Kong 1819729\n",
      "Nikolskoye 546105\n",
      "Leningradskiy 2123814\n",
      "Hilo 5855927\n",
      "East London 1006984\n",
      "Pisco 3932145\n",
      "Madang 2091996\n",
      "Sept-Îles 6144312\n",
      "Salalah 286621\n",
      "Gādarwāra 1271847\n",
      "Ketchikan 5554428\n",
      "Saint-Philippe 935215\n",
      "Lamu 189741\n",
      "Trofors 3133983\n",
      "Koyelga 1502280\n",
      "Muzhi 1498161\n",
      "Dikson 1507390\n",
      "Yellowknife 6185377\n",
      "Kavieng 2094342\n",
      "Surok 826558\n",
      "Anadyr 2127202\n",
      "Carnarvon 2074865\n",
      "Mount Isa 2065594\n",
      "Kathmandu 1283240\n",
      "Mapimí 3996647\n",
      "Russell 4047434\n",
      "Ulladulla 2145554\n",
      "Voh 2137748\n",
      "Portoferraio 3170094\n",
      "Chokurdakh 2126123\n",
      "Isangel 2136825\n",
      "Kruisfontein 986717\n",
      "Ngama 2427036\n",
      "Safi 2537881\n",
      "Cherskiy 2126199\n",
      "Mweka 207596\n",
      "Bathsheba 3374083\n",
      "Kaitangata 2208248\n",
      "Baker City 5712169\n",
      "Tarko-Sale 1490085\n",
      "Maceió 3395981\n",
      "Egvekinot 4031742\n",
      "Guatire 3639898\n",
      "Saint-Louis 2246451\n",
      "Bembèrèkè 2395182\n",
      "Acarí 3948613\n",
      "Dezhou 1812955\n",
      "Zonguldak 737021\n",
      "Geraldton 2070998\n",
      "Yulara 6355222\n",
      "Belyy Yar 1510377\n",
      "Valparaíso 3868626\n",
      "Great Falls 5655240\n",
      "Denpasar 1645528\n",
      "Skibbereen 2961459\n",
      "Olafsvik 3414079\n",
      "São José da Coroa Grande 3388456\n",
      "Grootfontein 3357114\n",
      "Ongandjera 3354178\n",
      "Ballina 2177069\n",
      "San Cristobal 3628473\n",
      "High Level 5975004\n",
      "Kysyl-Syr 2021017\n",
      "Pilar 3392126\n",
      "Departamento de Maldonado 3441890\n",
      "Petropavlovsk-Kamchatskiy 2122104\n",
      "Agirish 1512101\n",
      "Surubim 3387115\n",
      "Guerrero Negro 4021858\n",
      "Kahului 5847411\n",
      "Aliwal North 1023309\n",
      "Paamiut 3421193\n",
      "Tarnów 757026\n",
      "Gushikawa 1863495\n",
      "Tari 2322495\n",
      "Adrar 2381972\n",
      "Kamaishi 2112444\n",
      "Esplanada 3463920\n",
      "Menongue 3347353\n",
      "Port Macquarie 2152659\n",
      "Luorong 1801850\n",
      "Aklavik 5882953\n",
      "Kumul 1529484\n",
      "Katsuura 2112309\n",
      "Pahlgām 1260880\n",
      "Tautira 4033557\n",
      "Linares 3883167\n",
      "Corinth 259289\n",
      "Oudtshoorn 967106\n",
      "Bengkulu 1649150\n",
      "Excelsior Springs 4385966\n",
      "Provideniya 4031574\n",
      "Cachoeira do Sul 3468436\n",
      "Narsaq 3421719\n",
      "Severo-Kuril'sk 2121385\n",
      "Tabas 113659\n",
      "Nanortalik 3421765\n",
      "Macclesfield 2643266\n",
      "Harper 2276492\n",
      "Ust-Nera 2120048\n",
      "Brønnøysund 3159954\n",
      "Gorom-Gorom 2360372\n",
      "Kurikka 650095\n",
      "La Rioja 3336897\n",
      "Mahébourg 934322\n",
      "Kirakira 2178753\n",
      "Toppenish 5813747\n",
      "Qaqortoq 3420846\n",
      "Souillac 933995\n",
      "Cabo San Lucas 3985710\n",
      "Westport 4845585\n",
      "Bilma 2446796\n",
      "Richards Bay 962367\n",
      "Tessalit 2449893\n",
      "Hambantota 1244926\n",
      "Kununurra 2068110\n",
      "Jiuquan 1279945\n",
      "Lata 2738381\n",
      "Mayo 4362001\n",
      "Orangeburg 4590184\n",
      "Le Port 935616\n",
      "Chui 3443061\n",
      "Lyaskelya 532825\n",
      "Heiligenhafen 2907589\n",
      "Bonoua 2291087\n",
      "Aripuanã 3665202\n",
      "Linao 1706272\n",
      "Waipawa 2206874\n",
      "Sangar 2017215\n",
      "Biak 1637001\n",
      "Sosnovo 490213\n",
      "Chapais 5919850\n",
      "Inhambane 1045114\n",
      "Santa Isabel Rio Negro 3662489\n",
      "Comodoro Rivadavia 3860443\n",
      "Caravelas 3466980\n",
      "Praia 3374333\n",
      "Petatlán 3992842\n",
      "Bandarbeyla 64814\n",
      "Morales 3770718\n",
      "Taunggyi 1293960\n",
      "Nieuw Nickerie 3383427\n",
      "Amahai 1651591\n",
      "Puerto Maldonado 3931470\n",
      "Santa Isabel 3450188\n",
      "Mehamn 778707\n",
      "Gijang 1842966\n",
      "Norman Wells 6089245\n",
      "Airai 1651810\n",
      "Ialibu 2095925\n",
      "Oussouye 2246901\n",
      "Yar-Sale 1486321\n",
      "Khanbari 1283217\n",
      "Aberystwyth 2657782\n",
      "Lüderitz 3355672\n",
      "Khot'kovo 549373\n",
      "Oistins 3373652\n",
      "Constantine 2501152\n",
      "Gönen 746574\n",
      "Maragogi 3395458\n",
      "Mahalapye 933471\n",
      "Wagar 364027\n",
      "Flin Flon 5954718\n",
      "Boca do Acre 3664956\n",
      "Seredka 496859\n",
      "Coahuayana Viejo 4013679\n",
      "Purwā 1259157\n",
      "Qui Nhon 1568574\n",
      "Hukuntsi 933726\n",
      "Guánica 4565090\n",
      "Kintinku 157247\n",
      "Atasū 1526041\n",
      "Dalvik 2632287\n",
      "Ajdabiya 89113\n",
      "Matara 1235846\n",
      "Rio Grande 3451138\n",
      "Verkhnyaya Toyma 474470\n",
      "Tuatapere 2180815\n",
      "Serenje 898912\n",
      "Coquimbo 3893629\n",
      "Nemuro 2128975\n",
      "Kayerkan 1497337\n",
      "Natchitoches 4334734\n",
      "Port Hedland 2063042\n",
      "Klaksvík 2618795\n",
      "Savonlinna 637292\n",
      "Estelle 4323873\n",
      "Flinders 6255012\n",
      "Namatanai 2090021\n",
      "Cap Malheureux 934649\n",
      "Aksarka 1512019\n",
      "Riyadh 108410\n",
      "Turukhansk 1488903\n",
      "Tokmak 691469\n",
      "Vardø 777019\n",
      "Mossamedes 3347019\n",
      "Golden 5423294\n",
      "Saint-Pierre 935214\n",
      "Colombia 3563856\n",
      "Washington 5815135\n",
      "Morant Bay 3489440\n",
      "Xixiang 1788206\n",
      "Santa Fe 3836277\n",
      "Buritizeiro 3468720\n",
      "Garoowe 58933\n",
      "São João da Barra 3448903\n",
      "George Town 1735106\n",
      "Kabo 2386042\n",
      "Port Blair 1259385\n",
      "Chioggia 3178784\n",
      "Guangyuan 1806466\n",
      "Gamba 2400547\n",
      "Camaná 3945985\n",
      "Gambo 239300\n",
      "Laas 3175096\n",
      "Kendari 1640344\n",
      "Uga 2320920\n",
      "Hay River 5972762\n",
      "Pochutla 3517970\n",
      "Mbuji-Mayi 209228\n",
      "Celestún 3531368\n",
      "Hamilton 4513583\n",
      "Jijiga 333795\n",
      "Dzhebariki-Khaya 2024626\n",
      "Ancud 3899695\n",
      "Acaraú 3408368\n",
      "Peace River 6100069\n",
      "Asamankese 2304220\n",
      "Tynda 2014718\n",
      "San Borja 3905792\n",
      "Nador 2541479\n",
      "Nuuk 3421319\n",
      "Maningrida 2067089\n",
      "Sittwe 1295765\n",
      "Coos Bay 5720495\n",
      "La Ronge 6050066\n",
      "Praia da Vitória 3372760\n",
      "Pacific Grove 5380437\n",
      "Dinguiraye 2421903\n",
      "Ridgecrest 5387494\n",
      "Borgarnes 3418076\n",
      "Kadoma 1860871\n",
      "Wawa 2319078\n",
      "Saint-Augustin 6137462\n",
      "Syracuse 2523082\n",
      "Samarai 2132606\n",
      "Khanu Woralaksaburi 1152953\n",
      "Yārāda 1252783\n",
      "Alamor 3659544\n",
      "Nome 5870133\n",
      "Sabla 2349431\n",
      "Pestovo 510364\n",
      "São Filipe 3374210\n",
      "Turaif 101312\n",
      "Linjiang 2036069\n",
      "Ürümqi 1529102\n",
      "Mananjary 1061335\n",
      "Liloan 1706393\n",
      "Pangnirtung 6096551\n",
      "Portland 5746545\n",
      "Antalaha 1071296\n",
      "Hot Springs 4115412\n",
      "Husavik 2629833\n",
      "Itaqui 3460629\n",
      "Ambajogai 1278862\n",
      "Aksu 1529660\n",
      "Umm Kaddadah 364933\n",
      "Hirara 1862505\n",
      "Perth 2063523\n",
      "Margate 2643044\n",
      "Mandalgovi 2030065\n",
      "Porosozero 506232\n",
      "San Andrés 3670218\n",
      "Sirhind 1256087\n",
      "Araouane 2460954\n",
      "Itupiranga 3397851\n",
      "Constitución 3893726\n",
      "Paraná 3841956\n",
      "College 5859699\n",
      "Tsaratanana 1055059\n",
      "San Miguel de Cozumel 3530103\n",
      "Sechura 3691954\n",
      "Noumea 2139521\n",
      "Tumpat 1736356\n",
      "Toucheng 1674199\n",
      "Akçaabat 752627\n",
      "Terekli-Mekteb 483439\n",
      "Kristianstad 2699310\n",
      "Galesong 1644605\n",
      "Sovetskiy 1491230\n",
      "Imbituba 3461370\n",
      "Tura 1254046\n",
      "Nazas 3995005\n",
      "Mareeba 2158767\n",
      "Hornepayne 5977046\n",
      "Shushenskoye 1491953\n",
      "Athabasca 5887916\n",
      "Sambava 1056899\n",
      "Manokwari 1636308\n",
      "Te Anau 2181625\n",
      "Katobu 1640972\n",
      "Kholmogory 549748\n",
      "Nakhon Thai 1608524\n",
      "Shebunino 2121324\n",
      "Douentza 2458334\n",
      "Nogliki 2122783\n",
      "Bolshaya Martynovka 581220\n",
      "Barão de Melgaço 3470871\n",
      "Port Keats 2063039\n",
      "Troitskoye 1489209\n",
      "Bonanza 3620645\n",
      "Svetlaya 2015852\n",
      "Moroto 229112\n",
      "Kidal 2455290\n",
      "Teeli 1489828\n",
      "Atar 2381334\n",
      "Basco 1726449\n",
      "Yatou 1786855\n",
      "Fort-Shevchenko 609906\n"
     ]
    },
    {
     "name": "stdout",
     "output_type": "stream",
     "text": [
      "Makakilo City 5850554\n",
      "Ereymentau 1524302\n",
      "Apostolove 713245\n",
      "Poum 2138555\n",
      "Tanete 1629965\n",
      "Henties Bay 3356832\n",
      "Cartagena 3687238\n",
      "Kaeo 2189343\n",
      "Hauterive 3013748\n",
      "Morondava 1058381\n",
      "Chumikan 2025256\n",
      "San Ramon 5392593\n",
      "Nybro 2687902\n",
      "Port-Cartier 6111696\n",
      "Kudahuvadhoo 1337607\n",
      "Bara 2347758\n",
      "Jinka 333750\n",
      "Cape Coast 2302357\n",
      "Camacha 2270385\n",
      "Jumla 1283285\n",
      "Sistranda 3139597\n",
      "Bariloche 7647007\n",
      "Kutum 371745\n",
      "Rapu-Rapu 1691862\n",
      "Berlevåg 780687\n",
      "Hailey 5594956\n",
      "Iaciara 3461641\n",
      "Cabedelo 3404558\n",
      "Romitan 1217662\n",
      "Walvis Bay 3359638\n",
      "Pontes e Lacerda 3453060\n",
      "Ostrovnoy 556268\n",
      "Belle Fourche 5762718\n",
      "Xai-Xai 1024552\n",
      "Amga 2027786\n",
      "Galveston 4692856\n",
      "Los Llanos de Aridane 2514651\n",
      "Xinqing 2033667\n",
      "Vieste 3164387\n",
      "Broome 5110365\n",
      "Barabai 1650064\n",
      "Piracuruca 3391991\n",
      "Rovaniemi 638936\n",
      "Governador Dix-Sept Rosado 3398871\n",
      "Khorixas 3356213\n",
      "Grand Gaube 934479\n",
      "Naze 1855540\n",
      "Victor Harbor 2059470\n",
      "Sinegor'ye 2121197\n",
      "España 1713797\n",
      "São Fidélis 3449195\n",
      "Santa Cruz de la Sierra 3904906\n",
      "Muli 1337617\n",
      "Klang 1732905\n",
      "Billings Metropolitan Area 5640350\n",
      "Farafangana 1065158\n",
      "Karasjok 779350\n",
      "Lincoln 5072006\n",
      "Eyl 60019\n",
      "Sisimiut 3419842\n",
      "Montana 729114\n",
      "Thio 2138103\n",
      "Faya 110690\n",
      "Halifax 6324729\n",
      "Beloha 1067565\n"
     ]
    }
   ],
   "source": [
    "url = \"http://api.openweathermap.org/data/2.5/weather?\"\n",
    "units = \"metric\"\n",
    "query_url = f\"{url}appid={weather_api_key}&units={units}&q=\"\n",
    "names = []\n",
    "city_id = []\n",
    "clouds = []\n",
    "country =[]\n",
    "date = []\n",
    "humidity = []\n",
    "lat = []\n",
    "lon = []\n",
    "max_temp = []\n",
    "wind_speed = []\n",
    "\n",
    "\n",
    "for city in cities:\n",
    "    try:\n",
    "        response = requests.get(query_url + city).json()\n",
    "        names.append(response['name'])\n",
    "        city_id.append(response['id'])\n",
    "        clouds.append(response['clouds']['all'])\n",
    "        country.append(response['sys']['country'])\n",
    "        date.append(response['dt'])\n",
    "        humidity.append(response['main']['humidity'])\n",
    "        lat.append(response['coord']['lat'])\n",
    "        lon.append(response['coord']['lon'])\n",
    "        max_temp.append(response['main']['temp_max'])\n",
    "        wind_speed.append(response['wind']['speed'])\n",
    "       \n",
    "        print(response['name'],response['id'])\n",
    "    except:\n",
    "        continue\n",
    "weather_dict = {\n",
    "    \"City_ID\": city_id,\n",
    "    \"City\": cities,\n",
    "    \"Cloudiness\": clouds,\n",
    "    \"Country\": country,\n",
    "    \"Date\": date,\n",
    "    \"Humidity\": humidity,\n",
    "    \"Lat\": lat,\n",
    "    \"Lng\": lon,\n",
    "    \"Max Temp\":max_temp,\n",
    "    \"Wind Speed\":wind_speed}"
   ]
  },
  {
   "cell_type": "markdown",
   "metadata": {},
   "source": [
    "### Convert Raw Data to DataFrame\n",
    "* Export the city data into a .csv.\n",
    "* Display the DataFrame"
   ]
  },
  {
   "cell_type": "code",
   "execution_count": 27,
   "metadata": {},
   "outputs": [
    {
     "name": "stdout",
     "output_type": "stream",
     "text": [
      "{'coord': {'lon': 45.05, 'lat': -25.17}, 'weather': [{'id': 801, 'main': 'Clouds', 'description': 'few clouds', 'icon': '02d'}], 'base': 'stations', 'main': {'temp': 15.78, 'feels_like': 15.42, 'temp_min': 15.78, 'temp_max': 15.78, 'pressure': 1019, 'humidity': 95, 'sea_level': 1019, 'grnd_level': 1001}, 'visibility': 10000, 'wind': {'speed': 2.81, 'deg': 320}, 'clouds': {'all': 18}, 'dt': 1596083065, 'sys': {'country': 'MG', 'sunrise': 1596080295, 'sunset': 1596119640}, 'timezone': 10800, 'id': 1067565, 'name': 'Beloha', 'cod': 200}\n"
     ]
    }
   ],
   "source": [
    "print(response)"
   ]
  },
  {
   "cell_type": "code",
   "execution_count": 28,
   "metadata": {},
   "outputs": [
    {
     "data": {
      "text/plain": [
       "dict_values([[3874787, 476732, 3833367, 4030556, 3894426, 2206939, 684269, 2015306, 1275960, 5983720, 3412093, 2075265, 2110227, 3652764, 1214488, 4035715, 2122090, 3424607, 2520493, 3372964, 2729907, 3470137, 3471451, 3883457, 5367788, 104515, 1714733, 2654970, 5106841, 3115824, 535839, 3366880, 3372707, 3401148, 5122534, 3533826, 1513491, 3369157, 3430863, 578045, 5880054, 964420, 1805935, 558885, 3372472, 6201424, 3557758, 3985168, 2016757, 1280957, 3466704, 1494482, 3996426, 5563839, 3831208, 4295251, 1791779, 2194098, 501847, 2130188, 1282256, 5815136, 5924351, 1252795, 4031637, 6170031, 2156643, 6165406, 2346995, 1106677, 1062663, 2063036, 6113406, 922704, 5546220, 8070858, 5848280, 2171099, 3395042, 5866583, 933734, 504576, 4341378, 4032243, 4033543, 5861897, 1529651, 2126682, 3984997, 1215502, 2447513, 2071860, 964432, 2542997, 3402648, 3533462, 5808079, 4020109, 1633419, 1510689, 2163355, 1255396, 4004293, 1524606, 1842225, 3423146, 4174301, 2109528, 933471, 3466165, 3171173, 610023, 5282297, 2208091, 2017155, 5354943, 6167817, 2025630, 3418910, 4034551, 3460087, 2155415, 2264557, 3526756, 5557293, 2960964, 1337610, 2035610, 1090467, 2374583, 3671450, 293842, 1491977, 4036284, 1712961, 2038067, 3386213, 3361934, 1630058, 2027042, 153412, 5948844, 610612, 3674676, 1015776, 2022572, 3382160, 2013279, 296852, 3385935, 2171722, 686090, 1819729, 546105, 2123814, 5855927, 1006984, 3932145, 2091996, 6144312, 286621, 1271847, 5554428, 935215, 189741, 3133983, 1502280, 1498161, 1507390, 6185377, 2094342, 826558, 2127202, 2074865, 2065594, 1283240, 3996647, 4047434, 2145554, 2137748, 3170094, 2126123, 2136825, 986717, 2427036, 2537881, 2126199, 207596, 3374083, 2208248, 5712169, 1490085, 3395981, 4031742, 3639898, 2246451, 2395182, 3948613, 1812955, 737021, 2070998, 6355222, 1510377, 3868626, 5655240, 1645528, 2961459, 3414079, 3388456, 3357114, 3354178, 2177069, 3628473, 5975004, 2021017, 3392126, 3441890, 2122104, 1512101, 3387115, 4021858, 5847411, 1023309, 3421193, 757026, 1863495, 2322495, 2381972, 2112444, 3463920, 3347353, 2152659, 1801850, 5882953, 1529484, 2112309, 1260880, 4033557, 3883167, 259289, 967106, 1649150, 4385966, 4031574, 3468436, 3421719, 2121385, 113659, 3421765, 2643266, 2276492, 2120048, 3159954, 2360372, 650095, 3336897, 934322, 2178753, 5813747, 3420846, 933995, 3985710, 4845585, 2446796, 962367, 2449893, 1244926, 2068110, 1279945, 2738381, 4362001, 4590184, 935616, 3443061, 532825, 2907589, 2291087, 3665202, 1706272, 2206874, 2017215, 1637001, 490213, 5919850, 1045114, 3662489, 3860443, 3466980, 3374333, 3992842, 64814, 3770718, 1293960, 3383427, 1651591, 3931470, 3450188, 778707, 1842966, 6089245, 1651810, 2095925, 2246901, 1486321, 1283217, 2657782, 3355672, 549373, 3373652, 2501152, 746574, 3395458, 933471, 364027, 5954718, 3664956, 496859, 4013679, 1259157, 1568574, 933726, 4565090, 157247, 1526041, 2632287, 89113, 1235846, 3451138, 474470, 2180815, 898912, 3893629, 2128975, 1497337, 4334734, 2063042, 2618795, 637292, 4323873, 6255012, 2090021, 934649, 1512019, 108410, 1488903, 691469, 777019, 3347019, 5423294, 935214, 3563856, 5815135, 3489440, 1788206, 3836277, 3468720, 58933, 3448903, 1735106, 2386042, 1259385, 3178784, 1806466, 2400547, 3945985, 239300, 3175096, 1640344, 2320920, 5972762, 3517970, 209228, 3531368, 4513583, 333795, 2024626, 3899695, 3408368, 6100069, 2304220, 2014718, 3905792, 2541479, 3421319, 2067089, 1295765, 5720495, 6050066, 3372760, 5380437, 2421903, 5387494, 3418076, 1860871, 2319078, 6137462, 2523082, 2132606, 1152953, 1252783, 3659544, 5870133, 2349431, 510364, 3374210, 101312, 2036069, 1529102, 1061335, 1706393, 6096551, 5746545, 1071296, 4115412, 2629833, 3460629, 1278862, 1529660, 364933, 1862505, 2063523, 2643044, 2030065, 506232, 3670218, 1256087, 2460954, 3397851, 3893726, 3841956, 5859699, 1055059, 3530103, 3691954, 2139521, 1736356, 1674199, 752627, 483439, 2699310, 1644605, 1491230, 3461370, 1254046, 3995005, 2158767, 5977046, 1491953, 5887916, 1056899, 1636308, 2181625, 1640972, 549748, 1608524, 2121324, 2458334, 2122783, 581220, 3470871, 2063039, 1489209, 3620645, 2015852, 229112, 2455290, 1489828, 2381334, 1726449, 1786855, 609906, 5850554, 1524302, 713245, 2138555, 1629965, 3356832, 3687238, 2189343, 3013748, 1058381, 2025256, 5392593, 2687902, 6111696, 1337607, 2347758, 333750, 2302357, 2270385, 1283285, 3139597, 7647007, 371745, 1691862, 780687, 5594956, 3461641, 3404558, 1217662, 3359638, 3453060, 556268, 5762718, 1024552, 2027786, 4692856, 2514651, 2033667, 3164387, 5110365, 1650064, 3391991, 638936, 3398871, 3356213, 934479, 1855540, 2059470, 2121197, 1713797, 3449195, 3904906, 1337617, 1732905, 5640350, 1065158, 779350, 5072006, 60019, 3419842, 729114, 2138103, 110690, 6324729, 1067565], ['punta arenas', 'vasilsursk', 'ushuaia', 'rikitea', 'coihaique', 'bluff', 'bolintin deal', 'tiksi', 'bhilwara', 'iqaluit', 'vestmannaeyjar', 'ngukurr', 'busselton', 'butaritari', 'puerto ayora', 'meulaboh', 'avarua', 'pevek', 'sahrak', 'tasiilaq', 'calvia', 'lagoa', 'longyearbyen', 'belmonte', 'arraial do cabo', 'nizhneyansk', 'lebu', 'lompoc', 'mecca', 'dingle', 'barentsburg', 'brae', 'albany', 'lolua', 'muros', 'leshukonskoye', 'hermanus', 'ribeira grande', 'cururupu', 'jamestown', 'yaguajay', 'komsomolskiy', 'cape town', 'mar del plata', 'belinskiy', 'barrow', 'port elizabeth', 'jiazi', 'gremyachinsk', 'vila franca do campo', 'mataura', 'guane', 'san patricio', 'shelopugino', 'jiayuguan', 'castro', 'polunochnoye', 'matamoros', 'fortuna', 'qaanaaq', 'hopkinsville', 'wanning', 'ahipara', 'rochegda', 'hakodate', 'hithadhoo', 'washougal', 'clyde river', 'yanam', 'lavrentiya', 'tuktoyaktuk', 'mount gambier', 'grand river south east', 'thompson', 'biu', 'bambous virieux', 'mahajanga', 'port lincoln', 'prince rupert', 'lubumbashi', 'saint george', 'gambiran', 'kapaa', 'codrington', 'mazagao', 'belushya guba', 'kodiak', 'gweta', 'protvino', 'shenandoah', 'vaini', 'teahupoo', 'saleaula', 'fairbanks', 'altay', 'bilibino', 'san quintin', 'banda aceh', 'arlit', 'esperance', 'nizhnyaya pavlovka', 'illoqqortoormiut', 'port alfred', 'marrakesh', 'carutapera', 'acapulco', 'redmond', 'atuona', 'padang', 'baykit', 'hobart', 'supaul', 'ixtapa', 'derzhavinsk', 'jiddah', 'kumi', 'ilulissat', 'sumter', 'buala', 'bonwapitse', 'amderma', 'sentyabrskiy', 'cidreira', 'pesaro', 'dossor', 'bethel', 'waitara', 'samusu', 'saskylakh', 'half moon bay', 'torbay', 'chara', 'upernavik', 'faanui', 'jardim', 'new norfolk', 'ponta do sol', 'isla mujeres', 'sitka', 'wexford', 'thinadhoo', 'nehe', 'boueni', 'bubaque', 'inirida', 'gat', 'shumskiy', 'alofi', 'gigmoto', 'chifeng', 'ambodifototra', 'touros', 'saldanha', 'karaton', 'batagay-alyta', 'mlandizi', 'englehart', 'aktau', 'mitu', 'bredasdorp', 'mys shmidta', 'umzimvubu', 'khatanga', 'cayenne', 'vostok', 'erzin', 'tucurui', 'charters towers', 'taolanaro', 'asau', 'victoria', 'nikolskoye', 'leningradskiy', 'hilo', 'east london', 'pisco', 'madang', 'sept-iles', 'salalah', 'gadarwara', 'ketchikan', 'saint-philippe', 'lamu', 'trofors', 'koyelga', 'muzhi', 'dikson', 'yellowknife', 'kavieng', 'surok', 'vaitupu', 'anadyr', 'carnarvon', 'mount isa', 'kathmandu', 'mapimi', 'russell', 'ulladulla', 'voh', 'portoferraio', 'chokurdakh', 'isangel', 'kruisfontein', 'ngama', 'chagda', 'meyungs', 'asfi', 'cherskiy', 'mweka', 'bathsheba', 'kaitangata', 'baker city', 'tarko-sale', 'maceio', 'egvekinot', 'guatire', 'saint-louis', 'bargal', 'bembereke', 'acari', 'dezhou', 'zonguldak', 'geraldton', 'yulara', 'belyy yar', 'valparaiso', 'great falls', 'denpasar', 'skibbereen', 'olafsvik', 'sao jose da coroa grande', 'grootfontein', 'ongandjera', 'ballina', 'san cristobal', 'high level', 'kysyl-syr', 'rungata', 'pilar', 'haibowan', 'maldonado', 'petropavlovsk-kamchatskiy', 'agirish', 'surubim', 'guerrero negro', 'warqla', 'kahului', 'aliwal north', 'paamiut', 'tarnow', 'gushikawa', 'tari', 'adrar', 'kamaishi', 'esplanada', 'menongue', 'port macquarie', 'luorong', 'aklavik', 'afmadu', 'hami', 'katsuura', 'pahalgam', 'tautira', 'palabuhanratu', 'linares', 'corinto', 'oudtshoorn', 'bengkulu', 'excelsior springs', 'provideniya', 'cachoeira do sul', 'narsaq', 'severo-kurilsk', 'tabas', 'nanortalik', 'macclesfield', 'harper', 'ust-nera', 'bronnoysund', 'gorom-gorom', 'kurikka', 'la rioja', 'mahebourg', 'kirakira', 'toppenish', 'qaqortoq', 'souillac', 'attawapiskat', 'cabo san lucas', 'westport', 'milingimbi', 'reefton', 'bilma', 'richards bay', 'tessalit', 'hambantota', 'kununurra', 'jiuquan', 'lata', 'mayo', 'orangeburg', 'le port', 'chuy', 'lyaskelya', 'heiligenhafen', 'bonoua', 'aripuana', 'linao', 'chengmai', 'waipawa', 'sangar', 'biak', 'sosnovo', 'tarudant', 'chapais', 'samalaeulu', 'inhambane', 'santa isabel do rio negro', 'comodoro rivadavia', 'caravelas', 'praya', 'petatlan', 'bandarbeyla', 'morales', 'taunggyi', 'nieuw nickerie', 'amahai', 'puerto maldonado', 'santa isabel', 'mehamn', 'kijang', 'norman wells', 'airai', 'ialibu', 'oussouye', 'yar-sale', 'khandbari', 'aberystwyth', 'luderitz', 'khotkovo', 'oistins', 'constantine', 'gonen', 'maragogi', 'mahalapye', 'wagar', 'flin flon', 'boca do acre', 'seredka', 'coahuayana', 'purwa', 'qui nhon', 'hukuntsi', 'guanica', 'kintinku', 'atasu', 'dalvik', 'ajdabiya', 'matara', 'rio grande', 'verkhnyaya toyma', 'tuatapere', 'serenje', 'coquimbo', 'nemuro', 'kayerkan', 'natchitoches', 'port hedland', 'klaksvik', 'savonlinna', 'estelle', 'flinders', 'namatanai', 'cap malheureux', 'aksarka', 'riyadh', 'turukhansk', 'tokmak', 'vardo', 'namibe', 'golden', 'saint-pierre', 'colombia', 'washington', 'morant bay', 'xixiang', 'santa fe', 'buritizeiro', 'garowe', 'sao joao da barra', 'georgetown', 'kabo', 'port blair', 'chioggia', 'guangyuan', 'gamba', 'camana', 'gambo', 'lasa', 'kendari', 'uga', 'hay river', 'pochutla', 'mbuji-mayi', 'celestun', 'hamilton', 'jijiga', 'dzhebariki-khaya', 'ancud', 'acarau', 'peace river', 'asamankese', 'tynda', 'san borja', 'nador', 'nuuk', 'kuche', 'maningrida', 'akyab', 'coos bay', 'la ronge', 'praia da vitoria', 'pacific grove', 'dinguiraye', 'ridgecrest', 'borgarnes', 'kadoma', 'wawa', 'saint-augustin', 'syracuse', 'samarai', 'khanu woralaksaburi', 'yarada', 'alamor', 'nome', 'sabla', 'pestovo', 'sao filipe', 'turayf', 'linjiang', 'urumqi', 'mananjary', 'liloan', 'pangnirtung', 'portland', 'antalaha', 'hot springs', 'husavik', 'itaqui', 'ambajogai', 'aksu', 'umm kaddadah', 'hirara', 'perth', 'margate', 'mandalgovi', 'porosozero', 'san andres', 'sirhind', 'araouane', 'itupiranga', 'constitucion', 'parana', 'college', 'tsaratanana', 'cozumel', 'sechura', 'noumea', 'halalo', 'tumpat', 'toucheng', 'akcaabat', 'terekli-mekteb', 'sumbawa', 'kristianstad', 'galesong', 'sovetskiy', 'imbituba', 'tura', 'nazas', 'mareeba', 'hornepayne', 'shushenskoye', 'athabasca', 'sambava', 'manokwari', 'te anau', 'katobu', 'kholmogory', 'nakhon thai', 'shebunino', 'douentza', 'nogliki', 'bolshaya martynovka', 'barao de melgaco', 'port keats', 'troitskoye', 'bonanza', 'svetlaya', 'moroto', 'badaojiang', 'kidal', 'teeli', 'atar', 'basco', 'yatou', 'fort-shevchenko', 'makakilo city', 'ereymentau', 'apostolove', 'poum', 'haapu', 'tanete', 'henties bay', 'cartagena', 'kaeo', 'hauterive', 'morondava', 'chumikan', 'san ramon', 'nybro', 'port-cartier', 'kudahuvadhoo', 'bara', 'jinka', 'cape coast', 'camacha', 'jumla', 'sistranda', 'san carlos de bariloche', 'kutum', 'rapu-rapu', 'berlevag', 'hailey', 'iaciara', 'cabedelo', 'romitan', 'walvis bay', 'pontes e lacerda', 'ostrovnoy', 'belle fourche', 'karkaralinsk', 'tsihombe', 'xai-xai', 'amga', 'galveston', 'los llanos de aridane', 'xinqing', 'vieste', 'broome', 'barabai', 'santa eulalia del rio', 'piracuruca', 'rovaniemi', 'governador dix-sept rosado', 'khorixas', 'grand gaube', 'naze', 'victor harbor', 'mrirt', 'sinegorye', 'espana', 'sao fidelis', 'santa cruz', 'muli', 'klang', 'billings', 'galiwinku', 'farafangana', 'karasjok', 'lincoln', 'eyl', 'sisimiut', 'andevoranto', 'montana', 'thio', 'faya', 'halifax', 'beloha'], [84, 62, 20, 100, 100, 100, 0, 89, 92, 75, 53, 96, 55, 62, 93, 26, 96, 39, 0, 75, 13, 0, 98, 100, 13, 9, 97, 100, 43, 0, 38, 49, 42, 0, 90, 5, 0, 75, 39, 72, 90, 3, 70, 100, 75, 100, 0, 100, 91, 0, 100, 99, 3, 1, 0, 40, 99, 100, 100, 20, 82, 20, 90, 40, 100, 75, 90, 20, 57, 75, 20, 2, 1, 0, 1, 2, 20, 51, 51, 1, 0, 90, 99, 75, 75, 1, 100, 0, 0, 100, 86, 0, 8, 40, 3, 74, 0, 2, 66, 100, 20, 100, 90, 3, 90, 86, 74, 22, 0, 94, 0, 0, 90, 100, 18, 90, 90, 99, 16, 93, 0, 78, 40, 75, 1, 99, 69, 78, 62, 100, 34, 0, 100, 47, 99, 91, 40, 2, 40, 0, 75, 1, 14, 27, 70, 93, 71, 4, 0, 86, 0, 11, 100, 2, 33, 90, 0, 90, 24, 90, 90, 100, 1, 75, 15, 75, 100, 87, 35, 75, 19, 20, 90, 0, 0, 75, 44, 90, 40, 36, 0, 56, 38, 0, 100, 12, 9, 0, 40, 100, 1, 26, 75, 100, 75, 75, 43, 52, 60, 0, 0, 0, 100, 75, 1, 75, 75, 100, 3, 0, 0, 75, 100, 20, 33, 75, 0, 79, 100, 14, 0, 1, 0, 100, 3, 40, 0, 43, 75, 1, 40, 31, 100, 75, 99, 75, 19, 75, 100, 0, 40, 81, 90, 90, 0, 99, 90, 0, 40, 75, 100, 27, 100, 0, 100, 11, 75, 100, 1, 95, 75, 14, 20, 9, 0, 0, 75, 0, 0, 0, 1, 90, 90, 0, 85, 7, 75, 2, 99, 20, 0, 100, 0, 75, 0, 53, 32, 0, 75, 100, 14, 86, 48, 88, 99, 4, 90, 8, 90, 75, 57, 87, 75, 10, 100, 96, 0, 40, 40, 0, 20, 3, 0, 89, 1, 46, 20, 100, 75, 54, 0, 100, 5, 0, 75, 0, 45, 0, 100, 100, 0, 7, 40, 8, 1, 0, 99, 75, 75, 16, 48, 53, 100, 1, 100, 7, 75, 0, 75, 75, 0, 0, 20, 47, 0, 43, 14, 59, 40, 100, 100, 12, 100, 53, 20, 98, 75, 92, 94, 75, 98, 0, 11, 1, 90, 0, 20, 0, 75, 40, 67, 52, 75, 100, 0, 100, 20, 75, 75, 19, 100, 1, 90, 40, 13, 81, 0, 91, 21, 75, 13, 90, 0, 41, 86, 0, 60, 40, 90, 40, 41, 20, 19, 75, 75, 0, 100, 0, 98, 75, 0, 31, 0, 95, 20, 90, 79, 86, 99, 0, 40, 91, 25, 0, 20, 20, 75, 40, 0, 56, 20, 94, 18, 100, 100, 0, 82, 100, 96, 77, 41, 100, 69, 20, 40, 63, 0, 0, 0, 0, 0, 100, 100, 11, 45, 0, 100, 14, 100, 4, 7, 1, 100, 22, 42, 74, 0, 51, 100, 9, 49, 100, 1, 86, 90, 95, 50, 86, 9, 75, 99, 75, 100, 98, 96, 62, 5, 4, 79, 35, 0, 0, 17, 100, 0, 0, 75, 90, 1, 0, 75, 84, 57, 100, 76, 0, 58, 75, 44, 97, 99, 32, 75, 97, 20, 75, 82, 5, 75, 2, 96, 0, 77, 100, 20, 18], ['CL', 'RU', 'AR', 'PF', 'CL', 'NZ', 'RO', 'RU', 'IN', 'CA', 'IS', 'AU', 'KI', 'EC', 'ID', 'CK', 'RU', 'GL', 'ES', 'PT', 'SJ', 'BR', 'BR', 'CL', 'US', 'SA', 'PH', 'GB', 'US', 'ES', 'RU', 'ZA', 'PT', 'BR', 'US', 'CU', 'UZ', 'ZA', 'AR', 'RU', 'US', 'ZA', 'CN', 'RU', 'PT', 'NZ', 'CU', 'MX', 'RU', 'CN', 'BR', 'RU', 'MX', 'US', 'GL', 'US', 'CN', 'NZ', 'RU', 'JP', 'MV', 'US', 'CA', 'IN', 'RU', 'CA', 'AU', 'CA', 'NG', 'MU', 'MG', 'AU', 'CA', 'CD', 'US', 'ID', 'US', 'AU', 'BR', 'US', 'BW', 'RU', 'US', 'TO', 'PF', 'US', 'CN', 'RU', 'MX', 'ID', 'NE', 'AU', 'ZA', 'MA', 'BR', 'MX', 'US', 'PF', 'ID', 'RU', 'AU', 'IN', 'MX', 'KZ', 'KR', 'GL', 'US', 'SB', 'BW', 'BR', 'IT', 'KZ', 'US', 'NZ', 'RU', 'US', 'CA', 'RU', 'GL', 'PF', 'BR', 'AU', 'PT', 'MX', 'US', 'IE', 'MV', 'CN', 'YT', 'GW', 'CO', 'IL', 'RU', 'NU', 'PH', 'CN', 'BR', 'ZA', 'ID', 'RU', 'TZ', 'CA', 'KZ', 'CO', 'ZA', 'RU', 'GF', 'RU', 'TR', 'BR', 'AU', 'RO', 'HK', 'RU', 'RU', 'US', 'ZA', 'PE', 'PG', 'CA', 'OM', 'IN', 'US', 'RE', 'KE', 'NO', 'RU', 'RU', 'RU', 'CA', 'PG', 'RU', 'RU', 'AU', 'AU', 'NP', 'MX', 'US', 'AU', 'NC', 'IT', 'RU', 'VU', 'ZA', 'TD', 'MA', 'RU', 'CD', 'BB', 'NZ', 'US', 'RU', 'BR', 'RU', 'VE', 'SN', 'BJ', 'PE', 'CN', 'TR', 'AU', 'AU', 'RU', 'CL', 'US', 'ID', 'IE', 'IS', 'BR', 'NA', 'NA', 'AU', 'VE', 'CA', 'RU', 'BR', 'UY', 'RU', 'RU', 'BR', 'MX', 'US', 'ZA', 'GL', 'PL', 'JP', 'NG', 'MR', 'JP', 'BR', 'AO', 'AU', 'CN', 'CA', 'CN', 'JP', 'IN', 'PF', 'CL', 'GR', 'ZA', 'ID', 'US', 'RU', 'BR', 'GL', 'RU', 'IR', 'GL', 'GB', 'LR', 'RU', 'NO', 'BF', 'FI', 'ES', 'MU', 'SB', 'US', 'GL', 'MU', 'MX', 'US', 'NE', 'ZA', 'ML', 'LK', 'AU', 'CN', 'PT', 'US', 'US', 'RE', 'UY', 'RU', 'DE', 'CI', 'BR', 'PH', 'NZ', 'RU', 'ID', 'RU', 'CA', 'MZ', 'BR', 'AR', 'BR', 'CV', 'MX', 'SO', 'CO', 'MM', 'SR', 'ID', 'PE', 'BR', 'NO', 'KR', 'CA', 'TL', 'PG', 'SN', 'RU', 'NP', 'GB', 'NA', 'RU', 'BB', 'DZ', 'TR', 'BR', 'BW', 'SD', 'CA', 'BR', 'RU', 'MX', 'IN', 'VN', 'BW', 'PR', 'TZ', 'KZ', 'IS', 'LY', 'LK', 'BR', 'RU', 'NZ', 'ZM', 'CL', 'JP', 'RU', 'US', 'AU', 'FO', 'FI', 'US', 'AU', 'PG', 'MU', 'RU', 'SA', 'RU', 'UA', 'NO', 'AO', 'US', 'RE', 'CU', 'US', 'JM', 'CN', 'AR', 'BR', 'SO', 'BR', 'MY', 'CF', 'IN', 'IT', 'CN', 'GA', 'PE', 'CF', 'IT', 'ID', 'NG', 'CA', 'MX', 'CD', 'MX', 'US', 'ET', 'RU', 'CL', 'BR', 'CA', 'GH', 'RU', 'BO', 'MA', 'GL', 'AU', 'MM', 'US', 'CA', 'PT', 'US', 'GN', 'US', 'IS', 'JP', 'NG', 'CA', 'IT', 'PG', 'TH', 'IN', 'EC', 'US', 'NG', 'RU', 'CV', 'SA', 'CN', 'CN', 'MG', 'PH', 'CA', 'US', 'MG', 'US', 'IS', 'BR', 'IN', 'CN', 'SD', 'JP', 'AU', 'GB', 'MN', 'RU', 'CO', 'IN', 'ML', 'BR', 'CL', 'AR', 'US', 'MG', 'MX', 'PE', 'NC', 'MY', 'TW', 'TR', 'RU', 'SE', 'ID', 'RU', 'BR', 'IN', 'MX', 'AU', 'CA', 'RU', 'CA', 'MG', 'ID', 'NZ', 'ID', 'RU', 'TH', 'RU', 'ML', 'RU', 'RU', 'BR', 'AU', 'RU', 'NI', 'RU', 'UG', 'ML', 'RU', 'MR', 'PH', 'CN', 'KZ', 'US', 'KZ', 'UA', 'NC', 'ID', 'NA', 'CO', 'NZ', 'FR', 'MG', 'RU', 'US', 'SE', 'CA', 'MV', 'NG', 'ET', 'GH', 'PT', 'NP', 'NO', 'AR', 'SD', 'PH', 'NO', 'US', 'BR', 'BR', 'UZ', 'NA', 'BR', 'RU', 'US', 'MZ', 'RU', 'US', 'ES', 'CN', 'IT', 'US', 'ID', 'BR', 'FI', 'BR', 'NA', 'MU', 'JP', 'AU', 'RU', 'PH', 'BR', 'BO', 'MV', 'MY', 'US', 'MG', 'NO', 'US', 'SO', 'GL', 'BG', 'NC', 'SA', 'CA', 'MG'], [1596082306, 1596082580, 1596082447, 1596082583, 1596082583, 1596082584, 1596082585, 1596082585, 1596082586, 1596082586, 1596082587, 1596082588, 1596082589, 1596082590, 1596082590, 1596082591, 1596082591, 1596082592, 1596082593, 1596082594, 1596082594, 1596082595, 1596082596, 1596082597, 1596082311, 1596082598, 1596082599, 1596082600, 1596082602, 1596082604, 1596082605, 1596082605, 1596082606, 1596082606, 1596082577, 1596082608, 1596082608, 1596082334, 1596082605, 1596082610, 1596082323, 1596082611, 1596082613, 1596082614, 1596082614, 1596082616, 1596082618, 1596082619, 1596082619, 1596082620, 1596082623, 1596082623, 1596082624, 1596082624, 1596082625, 1596082541, 1596082381, 1596082627, 1596082628, 1596082628, 1596082629, 1596082629, 1596082630, 1596082631, 1596082631, 1596082632, 1596082632, 1596082530, 1596082635, 1596082636, 1596082637, 1596082637, 1596082540, 1596082639, 1596082449, 1596082641, 1596082643, 1596082645, 1596082645, 1596082646, 1596082648, 1596082649, 1596082382, 1596082650, 1596082650, 1596082512, 1596082652, 1596082653, 1596082655, 1596082577, 1596082656, 1596082656, 1596082659, 1596082558, 1596082660, 1596082422, 1596082662, 1596082663, 1596082664, 1596082466, 1596082380, 1596082666, 1596082666, 1596082667, 1596082668, 1596082669, 1596082669, 1596082670, 1596082671, 1596082673, 1596082673, 1596082676, 1596082678, 1596082678, 1596082681, 1596082681, 1596082682, 1596082682, 1596082686, 1596082687, 1596082687, 1596082688, 1596082688, 1596082689, 1596082690, 1596082690, 1596082691, 1596082691, 1596082692, 1596082693, 1596082693, 1596082694, 1596082695, 1596082695, 1596082696, 1596082697, 1596082698, 1596082699, 1596082700, 1596082700, 1596082701, 1596082701, 1596082702, 1596082703, 1596082703, 1596082705, 1596082706, 1596082706, 1596082707, 1596082707, 1596082709, 1596082711, 1596082624, 1596082713, 1596082713, 1596082690, 1596082715, 1596082718, 1596082720, 1596082720, 1596082721, 1596082724, 1596082724, 1596082725, 1596082726, 1596082726, 1596082727, 1596082727, 1596082728, 1596082729, 1596082729, 1596082730, 1596082732, 1596082735, 1596082737, 1596082740, 1596082741, 1596082741, 1596082742, 1596082743, 1596082744, 1596082745, 1596082747, 1596082747, 1596082748, 1596082752, 1596082753, 1596082754, 1596082755, 1596082756, 1596082760, 1596082761, 1596082764, 1596082764, 1596082765, 1596082765, 1596082766, 1596082767, 1596082768, 1596082768, 1596082769, 1596082771, 1596082771, 1596082684, 1596082774, 1596082476, 1596082775, 1596082778, 1596082778, 1596082781, 1596082782, 1596082783, 1596082785, 1596082785, 1596082786, 1596082787, 1596082783, 1596082790, 1596082791, 1596082793, 1596082794, 1596082709, 1596082795, 1596082796, 1596082533, 1596082797, 1596082798, 1596082799, 1596082799, 1596082800, 1596082800, 1596082801, 1596082802, 1596082802, 1596082805, 1596082806, 1596082806, 1596082807, 1596082809, 1596082812, 1596082813, 1596082813, 1596082814, 1596082815, 1596082815, 1596082817, 1596082820, 1596082820, 1596082822, 1596082822, 1596082823, 1596082826, 1596082831, 1596082831, 1596082832, 1596082834, 1596082835, 1596082835, 1596082678, 1596082836, 1596082837, 1596082825, 1596082839, 1596082844, 1596082846, 1596082846, 1596082847, 1596082848, 1596082848, 1596082849, 1596082826, 1596082850, 1596082851, 1596082852, 1596082853, 1596082854, 1596082854, 1596082855, 1596082855, 1596082858, 1596082858, 1596082859, 1596082860, 1596082652, 1596082862, 1596082863, 1596082863, 1596082864, 1596082865, 1596082865, 1596082866, 1596082866, 1596082867, 1596082868, 1596082868, 1596082869, 1596082870, 1596082870, 1596082871, 1596082871, 1596082872, 1596082873, 1596082873, 1596082874, 1596082625, 1596082875, 1596082876, 1596082880, 1596082760, 1596082881, 1596082882, 1596082882, 1596082883, 1596082884, 1596082885, 1596082886, 1596082887, 1596082887, 1596082889, 1596082727, 1596082894, 1596082898, 1596082899, 1596082902, 1596082904, 1596082905, 1596082905, 1596082620, 1596082906, 1596082907, 1596082908, 1596082850, 1596082909, 1596082910, 1596082910, 1596082911, 1596082869, 1596082913, 1596082845, 1596082914, 1596082915, 1596082917, 1596082917, 1596082661, 1596082918, 1596082920, 1596082920, 1596082802, 1596082676, 1596082924, 1596082924, 1596082925, 1596082927, 1596082927, 1596082791, 1596082930, 1596082930, 1596082912, 1596082932, 1596082932, 1596082930, 1596082934, 1596082935, 1596082936, 1596082937, 1596082937, 1596082938, 1596082939, 1596082939, 1596082940, 1596082941, 1596082941, 1596082943, 1596082436, 1596082945, 1596082945, 1596082826, 1596082946, 1596082948, 1596082949, 1596082949, 1596082950, 1596082951, 1596082870, 1596082954, 1596082956, 1596082795, 1596082957, 1596082958, 1596082959, 1596082961, 1596082683, 1596082964, 1596082964, 1596082965, 1596082965, 1596082966, 1596082967, 1596082967, 1596082968, 1596082969, 1596082867, 1596082970, 1596082970, 1596082971, 1596082972, 1596082972, 1596082973, 1596082973, 1596082974, 1596082857, 1596082680, 1596082976, 1596082718, 1596082977, 1596082978, 1596082979, 1596082979, 1596082980, 1596082980, 1596082868, 1596082982, 1596082983, 1596082984, 1596082918, 1596082985, 1596082987, 1596082987, 1596082826, 1596082989, 1596082818, 1596082990, 1596082944, 1596082991, 1596082992, 1596082993, 1596082994, 1596082995, 1596082995, 1596082996, 1596082997, 1596082998, 1596082998, 1596082999, 1596083000, 1596083000, 1596083001, 1596083001, 1596083002, 1596082859, 1596082896, 1596082786, 1596083004, 1596083005, 1596083005, 1596083006, 1596083006, 1596083007, 1596083008, 1596083008, 1596083009, 1596083009, 1596083010, 1596083011, 1596083011, 1596083012, 1596083013, 1596083014, 1596083014, 1596083015, 1596083015, 1596083018, 1596083019, 1596083019, 1596083020, 1596083021, 1596083022, 1596082951, 1596083023, 1596083023, 1596083024, 1596083024, 1596082947, 1596083026, 1596083026, 1596082879, 1596083027, 1596083028, 1596083030, 1596083030, 1596083031, 1596083031, 1596083032, 1596083033, 1596083033, 1596083034, 1596083034, 1596083035, 1596083036, 1596083036, 1596083037, 1596083037, 1596082904, 1596083039, 1596083041, 1596083041, 1596083042, 1596083042, 1596083043, 1596083044, 1596082915, 1596082859, 1596083046, 1596083047, 1596083047, 1596083048, 1596083048, 1596082913, 1596083050, 1596083051, 1596083052, 1596083052, 1596083053, 1596083054, 1596083054, 1596082985, 1596083056, 1596083057, 1596083058, 1596082897, 1596083059, 1596083063, 1596083064, 1596083064, 1596083065, 1596083065], [85, 81, 74, 87, 86, 73, 69, 80, 73, 72, 89, 75, 74, 91, 56, 82, 90, 86, 50, 91, 81, 88, 85, 75, 87, 60, 72, 93, 99, 89, 59, 93, 89, 95, 93, 87, 21, 93, 72, 63, 81, 77, 58, 100, 94, 76, 83, 80, 78, 19, 96, 98, 64, 91, 80, 94, 55, 80, 92, 78, 78, 39, 100, 70, 88, 76, 67, 72, 97, 78, 73, 64, 72, 91, 8, 47, 69, 67, 100, 55, 51, 93, 90, 83, 78, 64, 28, 34, 81, 63, 33, 59, 72, 60, 93, 74, 61, 71, 56, 68, 43, 69, 94, 50, 94, 93, 92, 68, 57, 70, 77, 27, 88, 69, 49, 93, 93, 81, 86, 80, 50, 66, 68, 79, 64, 97, 78, 41, 83, 85, 95, 56, 50, 78, 71, 25, 94, 87, 62, 40, 88, 93, 68, 97, 82, 52, 83, 50, 91, 52, 34, 93, 49, 82, 76, 69, 66, 82, 68, 100, 88, 67, 72, 73, 87, 93, 78, 77, 76, 72, 68, 46, 93, 23, 22, 88, 64, 88, 55, 67, 69, 49, 65, 77, 81, 91, 56, 45, 78, 71, 49, 58, 100, 87, 94, 94, 99, 57, 38, 72, 52, 21, 69, 93, 37, 78, 100, 87, 75, 68, 40, 63, 92, 68, 41, 100, 93, 49, 88, 94, 84, 58, 76, 95, 91, 63, 78, 42, 83, 95, 56, 66, 67, 63, 13, 88, 57, 78, 79, 41, 76, 67, 100, 76, 95, 81, 78, 21, 90, 87, 87, 32, 100, 57, 100, 88, 78, 80, 61, 81, 78, 73, 83, 16, 88, 36, 74, 14, 17, 86, 69, 94, 64, 87, 92, 87, 94, 51, 67, 66, 47, 83, 84, 88, 82, 88, 74, 75, 78, 82, 64, 88, 76, 84, 87, 59, 93, 71, 88, 63, 41, 96, 100, 62, 73, 92, 58, 82, 78, 40, 83, 76, 58, 77, 71, 60, 82, 79, 83, 54, 52, 74, 87, 42, 93, 49, 79, 76, 93, 70, 88, 100, 57, 49, 100, 11, 100, 93, 94, 60, 68, 74, 69, 32, 85, 55, 81, 82, 43, 73, 100, 31, 79, 51, 68, 53, 62, 85, 62, 97, 83, 88, 92, 82, 77, 95, 100, 59, 100, 63, 93, 36, 67, 83, 84, 30, 100, 88, 77, 94, 74, 51, 88, 93, 29, 76, 100, 83, 94, 92, 99, 14, 81, 70, 92, 85, 73, 79, 60, 79, 86, 87, 75, 89, 86, 31, 60, 64, 95, 70, 80, 39, 81, 94, 93, 85, 64, 25, 72, 89, 48, 74, 39, 95, 88, 100, 44, 52, 67, 61, 64, 72, 81, 78, 54, 70, 66, 57, 47, 82, 51, 62, 66, 96, 63, 36, 86, 69, 76, 77, 70, 79, 57, 77, 66, 80, 59, 69, 40, 60, 16, 76, 97, 73, 81, 42, 47, 51, 76, 66, 57, 48, 51, 60, 88, 48, 93, 81, 3, 63, 75, 83, 52, 76, 100, 75, 94, 76, 89, 64, 68, 87, 79, 65, 74, 71, 63, 53, 80, 36, 87, 59, 81, 69, 87, 40, 83, 73, 35, 73, 88, 49, 84, 72, 64, 37, 75, 74, 80, 51, 68, 87, 28, 75, 62, 31, 92, 77, 78, 66, 76, 59, 54, 87, 82, 95], [-53.15, 56.13, -54.8, -23.12, -45.58, -46.6, 44.46, 71.69, 25.35, 63.75, 63.44, -33.65, 3.07, -0.74, 4.14, -21.21, 69.7, 65.61, 39.57, 39.05, 78.22, -15.86, -22.97, -37.62, 34.64, 21.43, 11, 60.4, 42.6, 42.78, 64.9, -34.42, 38.52, -1.83, 42.1, 22.33, 40.43, -33.93, -38, 52.96, 71.29, -33.92, 22.88, 58.56, 37.72, -46.19, 22.2, 19.22, 51.65, 39.82, -24.79, 60.87, 25.53, 40.6, 77.48, 36.87, 18.8, -35.17, 62.8, 41.78, -0.6, 45.58, 70.47, 16.73, 65.58, 69.45, -37.83, 55.74, 10.61, -20.34, -15.72, -34.73, 54.32, -11.66, 37.1, -6.8, 22.08, -38.27, -0.12, 57.79, -20.18, 54.87, 30.4, -21.2, -17.83, 64.84, 47.87, 68.05, 30.48, 5.56, 18.74, -33.87, -33.59, 31.63, -1.2, 16.86, 47.67, -9.8, -0.95, 61.67, -42.88, 26.12, 20.7, 51.1, 36.11, 69.22, 28.71, -8.14, -23.08, -30.18, 43.9, 47.53, 41.37, -38.92, 71.92, 37.46, 47.67, 56.91, 72.79, -16.48, -21.48, -42.78, 32.67, 21.23, 57.05, 52.33, 0.53, 48.48, -12.9, 11.28, 3.87, 31.61, 54.83, -19.06, 13.78, 42.27, -5.2, -33.01, -6.34, 67.8, -6.7, 47.82, 43.65, 1.2, -34.53, 71.97, 4.93, 46.49, 36.96, -3.77, -20.1, 46.43, 22.29, 59.7, 69.38, 19.73, -33.02, -13.7, -5.22, 50.2, 17.02, 22.92, 55.34, -21.36, -2.27, 65.53, 54.65, 65.37, 73.51, 62.46, -2.57, 56.45, 64.75, -24.87, -20.73, 27.72, 25.82, 32.35, -35.35, -20.97, 42.81, 70.63, -19.55, -34, 11.78, 32.3, 68.75, -4.85, 13.22, -46.28, 44.77, 64.92, -9.67, 66.32, 10.48, 16.33, 10.23, -15.43, 37.45, 41.25, -28.77, -25.24, 53.6, -33.04, 47.5, -8.65, 51.55, 64.89, -8.9, -19.57, -17.88, -28.87, 7.77, 58.52, 63.9, -9.6, -34.67, 53.05, 61.92, -7.83, 27.98, 20.89, -30.69, 61.99, 50.01, 26.35, 12.41, 20.5, 39.27, -11.8, -14.66, -31.43, 24.41, 68.22, 42.8, 35.13, 34.03, -17.73, -35.85, 37.94, -33.59, -3.8, 39.34, 64.38, -30.04, 60.92, 50.68, 33.6, 60.14, 53.26, 4.38, 64.57, 65.46, 14.44, 62.62, 42.25, -20.41, -10.45, 46.38, 60.72, -20.52, 22.89, 41.14, 18.69, -28.78, 20.2, 6.12, -15.77, 39.74, 40.16, 38.89, 33.49, -20.94, -33.7, 61.77, 54.37, 5.27, -9.17, 7.17, -41.41, 63.92, -0.91, 60.55, 49.78, -23.86, -0.41, -45.87, -17.71, 14.92, 17.52, 9.49, 2.76, 20.78, 5.95, -3.33, -12.6, -23.32, 71.04, 35.24, 65.28, -8.93, -6.28, 12.48, 66.83, 27.37, 52.42, -26.65, 56.26, 13.07, 36.37, 40.1, -9.01, -23.1, 16.15, 54.77, -8.75, 58.16, 18.73, 26.47, 13.77, -24, 17.97, -5.88, 48.68, 65.97, 30.76, 5.95, -32.03, 62.23, -46.13, -13.23, -29.95, 43.32, 69.35, 31.77, -20.32, 62.23, 61.87, 29.85, -34.58, -3.67, -19.98, 66.56, 24.69, 65.82, 47.25, 70.37, -15.2, 39.76, -21.34, 20.99, 47.5, 17.88, 35.16, -31.63, -17.35, 8.41, -21.64, 5.41, 7.7, 11.67, 45.23, 32.44, -2.65, -16.62, 4.65, 46.62, -3.94, 5.94, 60.82, 15.74, -6.15, 20.87, 39.18, 9.35, 62.22, -41.87, -2.89, 56.25, 5.86, 55.17, -14.82, 35.17, 64.18, -12.07, 20.15, 43.37, 55.1, 38.73, 36.62, 11.3, 35.62, 64.54, 34.73, 9.9, 51.23, 37.09, -10.62, 16.06, 17.65, -4.02, 64.5, 12.75, 58.59, 14.9, 31.67, 41.81, 43.8, -21.22, 10.4, 66.15, 45.52, -14.9, 34.5, 66.04, -29.13, 18.73, 41.12, 13.6, 24.8, -31.93, 51.38, 45.76, 62.72, 12.58, 30.65, 18.9, -5.13, -35.33, -31.73, 64.86, -16.78, 20.51, -5.56, -22.28, 6.2, 24.86, 41.02, 44.17, 56.03, -5.32, 61.36, -28.24, 25.52, 25.23, -17, 49.21, 53.33, 54.72, -14.27, -0.87, -45.42, -4.94, 64.22, 17.1, 46.43, 15, 51.83, 47.27, -16.19, -14.25, 52.98, 14.03, 46.54, 2.53, 18.44, 51.03, 20.52, 20.45, 37.15, 44.51, 21.35, 51.62, 47.66, -20.23, -3.94, -22.12, 10.4, -35.1, 46.09, -20.28, 54.72, 37.78, 56.74, 50.03, 2.67, 10.37, 5.65, 5.11, 33.08, 29.27, 63.73, -41.15, 14.2, 13.19, 70.86, 43.52, -14.1, -6.98, 39.93, -22.96, -15.23, 68.05, 44.67, -25.05, 60.9, 29.37, 28.66, 48.23, 41.88, 42.25, -2.58, -3.93, 66.5, -5.46, -20.37, -20.01, 28.37, -35.57, 62.08, 12.38, -21.65, -17.8, 2.92, 3.03, 45.78, -22.82, 69.47, 40.8, 7.98, 66.94, 43.41, -21.62, 18.39, 44.65, -25.17], [-70.92, 46.01, -68.3, -134.97, -72.07, 168.33, 25.82, 128.87, 74.63, -68.51, -20.27, 115.33, 172.79, -90.35, 96.13, -159.78, 170.31, -37.64, 2.51, -27.98, 15.64, -38.88, -42.03, -73.65, -120.46, 39.83, 122.67, -1.35, -73.97, -9.06, 45.76, 19.23, -28.7, -44.87, -79.24, -79.24, 71.72, 18.42, -57.56, 43.42, -156.79, 25.57, 116.07, 57.85, -25.43, 168.86, -84.09, -104.7, 117.56, 98.3, -50.01, 60.42, -103.25, -124.16, -69.36, -87.49, 110.4, 173.17, 43.25, 140.74, 73.08, -122.35, -68.59, 82.22, -171, -133.04, 140.77, -97.86, 12.19, 57.76, 46.32, 135.87, -130.32, 27.48, -113.58, 111.5, -159.32, 141.97, -51.29, -152.41, 25.23, 37.22, -91, -175.2, -149.27, -147.72, 88.12, 166.44, -115.95, 95.32, 7.39, 121.9, 26.89, -8.01, -46.02, -99.89, -122.12, -139.03, 100.35, 96.37, 147.33, 86.6, -105.2, 66.32, 128.34, -51.1, -82.08, 159.59, 26.7, -50.21, 12.89, 52.98, -73.41, 174.25, 114.08, -122.43, -52.73, 118.26, -56.15, -151.75, -56.14, 147.06, -17.1, -86.73, -135.33, -6.46, 72.93, 124.83, 45.08, -15.83, -67.92, 34.76, 99.13, -169.92, 124.39, 118.96, -35.46, 17.94, 106.1, 130.41, 38.73, -79.87, 51.2, -70.17, 20.04, 102.5, -52.33, 135.88, 36.2, -49.67, 146.27, 26.4, 114.16, 30.79, 178.42, -155.09, 27.91, -76.22, 145.8, -66.38, 54.09, 78.78, -131.65, 55.77, 40.9, 13.41, 60.9, 64.67, 80.55, -114.35, 150.8, 48.12, 177.48, 113.63, 139.5, 85.32, -103.85, -85.2, 150.47, 164.7, 10.31, 147.92, 169.27, 24.73, 17.17, -9.24, 161.3, 21.57, -59.52, 169.85, -117.83, 77.78, -35.74, -179.17, -66.54, -15, 2.66, -74.62, 116.29, 31.83, 114.6, 130.99, 91.39, -71.63, -111.3, 115.22, -9.27, -23.71, -35.15, 18.12, 15.07, 153.57, -72.22, -117.14, 122.76, -35.96, -54.92, 158.65, 63.02, -35.75, -114.06, -156.47, 26.71, -49.67, 20.99, 127.87, 4.49, -10.07, 141.88, -37.95, 17.69, 152.92, 109.61, -135.01, 93.45, 140.3, 75.33, -149.15, -71.6, 22.96, 22.2, 102.27, -94.23, -173.3, -52.89, -46.05, 156.12, 56.92, -45.24, -2.13, -7.72, 143.2, 12.2, -0.24, 22.42, -2.5, 57.7, 161.92, -120.31, -46.03, 57.52, -109.91, -73.36, 12.92, 32.04, 1.01, 81.12, 128.73, 98.52, -8.33, -76.51, -80.86, 55.29, -53.46, 31.02, 10.98, -3.6, -60.63, 124.97, 175.52, 127.47, 122.88, 30.21, -74.85, 35.38, -65.02, -67.5, -39.25, -23.51, -101.27, 50.81, -76.62, 97.03, -56.98, 128.92, -69.18, -46.22, 27.85, 129.21, -126.83, 125.41, 143.99, -16.55, 70.83, 87.2, -4.08, 15.16, 38, -59.53, 6.61, 27.65, -35.22, 26.81, 36.2, -101.86, -67.4, 28.19, -103.68, 80.78, 109.23, 21.75, -66.91, 35.23, 71.64, -18.53, 20.23, 80.54, -52.1, 45, 167.68, 30.24, -71.34, 145.57, 87.76, -93.13, 118.57, -6.59, 28.88, -90.11, 150.86, 152.43, 57.61, 67.8, 46.72, 87.98, 35.71, 31.11, 12.15, -105.22, 55.48, -77.43, -120.5, -76.41, 112.86, -60.7, -44.96, 48.48, -41.05, 100.34, 18.63, 92.75, 12.29, 105.82, 10, -72.71, 22.26, 10.7, 122.5, 7.08, -115.8, -96.47, 23.6, -90.4, -84.53, 42.8, 135.8, -73.82, -40.12, -117.29, -0.66, 124.72, -66.85, -2.93, -51.72, 134.27, 92.9, -124.22, -105.28, -27.07, -121.92, -10.72, -117.67, -21.92, 135.58, 4.42, -58.65, 15.28, 150.67, 99.86, 83.27, -80.02, -165.41, 4.71, 35.8, -24.5, 38.66, 126.91, 87.6, 48.33, 124, -65.71, -122.68, 50.28, -93.06, -17.34, -56.55, 76.38, 80.26, 26.69, 125.28, 115.83, 1.39, 106.27, 32.73, -81.7, 76.38, -3.53, -49.33, -72.42, -60.52, -147.8, 47.65, -86.95, -80.82, 166.46, 102.17, 121.82, 39.57, 45.87, 14.15, 119.37, 63.58, -48.67, 90.22, -104.13, 145.43, -84.77, 91.94, -113.29, 50.17, 134.08, 167.72, 122.53, 41.66, 100.84, 141.86, -2.95, 143.17, 41.67, -55.97, 129.55, 84.68, -84.59, 138.33, 34.67, 1.41, 90.23, -13.05, 121.97, 122.38, 50.26, -158.09, 73.1, 33.71, 164.02, 119.78, 14.28, -75.51, 173.78, 3.45, 44.28, 135.31, -121.98, 15.91, -66.87, 72.89, 10.73, 36.65, -1.25, -16.33, 82.18, 8.83, -71.31, 24.67, 124.13, 29.09, -114.32, -46.63, -34.83, 64.38, 14.51, -59.34, 39.51, -103.85, 33.64, 131.96, -94.97, -17.92, 129.5, 16.18, -75.83, 115.38, -41.71, 25.72, -37.52, 14.97, 57.66, 129.48, 138.62, 150.48, 122.5, -41.75, -63.17, 73.57, 101.45, -108.5, 47.83, 25.51, -96.67, 49.82, -53.67, 23.23, 166.22, 42.45, -63.57, 45.05], [0, 18.81, 3, 22.64, -1, 12.44, 26.11, 5.73, 28.19, 15, 10.92, 16.67, 28.3, 19.44, 30.49, 20, 3.07, 5, 26.11, 23.4, 11, 18, 21.24, 7.22, 15, 29.73, 30.48, 11, 21.67, 18.89, 14.74, 12.78, 23.67, 22.93, 19.44, 26.56, 29, 13.33, 6.67, 20.4, 7, 15, 32.19, 13.44, 22, 12.65, 25.68, 26.32, 23, 30.21, 9, 12.27, 25, 13.33, 2.59, 26, 33.22, 14.87, 15.8, 23, 28.32, 29.44, 4, 31, 8.33, 13, 15, 19, 20.34, 22.78, 22, 15.38, 18, 9.72, 34, 29.35, 27, 13.05, 26, 17, 10.35, 17, 26.67, 21, 27, 20, 22.84, 15.54, 19.91, 29.92, 32.94, 18, 14.81, 24, 23.64, 27.59, 23.89, 26.4, 30.92, 17.16, 13.33, 31.22, 25, 23.29, 22, 4, 25, 29.9, 7.35, 9.83, 23.89, 27.58, 24, 13.33, 17.35, 17.78, 12.78, 17.18, 5.41, 26.49, 12.42, 13.33, 21, 29, 20, 16.11, 28.63, 30.35, 25, 25.79, 23.12, 25.56, 24.23, 22, 29.79, 34.28, 22, 10, 30.56, 16.37, 23, 16, 21, 21.63, 14, 19.59, 27, 27.15, 26.67, 26.51, 23.76, 20, 33.89, 16.67, 5.93, 27, 13, 16, 29.34, 15, 28, 29.75, 20, 21.11, 24.71, 14, 19.19, 13.98, 10.34, 17, 29.71, 23, 12, 24, 24, 23, 25, 25, 16.11, 26.62, 23.33, 12.99, 27, 12.22, 21.69, 20.15, 10.54, 18.83, 28, 12.78, 26.67, 17.01, 21, 9.26, 25, 24, 20.61, 15.87, 35.03, 17.82, 21, 21, 23, 10.56, 26, 27, 15, 10.38, 23.17, 4.4, 12.17, 21, 19.45, 18, 21.23, 21, 5, 23, 11.21, 17.94, 20.28, 28, 3.01, 7.76, 16.67, 33, 25.6, 31.26, 22, 18, 7.72, 18.89, 31.81, 16, 32.72, 23.89, 20.56, 27, 5.41, 26.67, 12, 28.88, 23.33, 11, 3.25, 9, 14.8, 33, 7.71, 14.44, 23.72, 16.23, 14, 29.11, 13.33, 20, 22, 27.08, 33, 9, 22, 26.67, 26, 31.57, 15.5, 31.45, 29, 28, 31.87, 18.89, 28, 25, 23, 5.22, 14.78, 13.89, 24, 22.67, 30.26, 13.33, 21.93, 23.63, 15, 17, 15.61, 22.97, 2, 19.57, 27, 26.44, 27.68, 15.39, 23.35, 26.93, 25.47, 18.56, 16, 14, 22, 18, 22.85, 17.4, 26, 15.74, 23.86, 13.33, 15, 18, 28, 22, 24, 22.89, 7.14, 25.4, 18.47, 25.59, 14, 26.22, 29, 33.27, 8.59, 27.78, 15, 20.22, 6, 22.83, 27.89, 7.14, 15.73, 12.57, 10.85, 10, 27, 20, 24, 30, 7, 13, 27.78, 17.78, 29.82, 22.78, 13.49, 34, 16.16, 23.27, 12, 16.75, 24.44, 21.11, 27, 31.11, 30, 32.35, 7.78, 19.19, 26.06, 21.79, 32, 20.52, 27.23, 24.44, 18.89, 21.96, 14.67, 20.37, 15, 29.07, 20.71, 17, 25, 19.21, 29.29, 25.56, 16.37, 23.14, 5.56, 24.43, 20, 24, 25.09, 16.56, 26, 8, 29.04, 29.2, 16.67, 22, 24, 15.56, 21.29, 34, 11, 32.78, 22.49, 14.51, 26.67, 25.11, 31.9, 30, 14.06, 11.11, 26, 14.38, 24.88, 31, 27.5, 20, 19.37, 31, 10.88, 28.89, 19.89, 25.56, 6, 4.29, 27.38, 27.98, 24.46, 30, 19.44, 16.11, 23.95, 14.86, 28, 27, 31.72, 25.66, 8.95, 7.78, 20, 19.47, 28.33, 16.76, 29, 31, 33, 25, 23.87, 13, 30, 15.99, 10, 24.06, 24.3, 26.11, 14.33, 23, 20.4, 20.78, 28.96, 11.54, 28.79, 16, 31, 21.9, 28.96, 25.52, 24.92, 20, 29.34, 17.81, 23.15, 25.03, 18.05, 30.99, 18.8, 26.1, 29.02, 27.68, 23.17, 29, 17.41, 23, 23.42, 30.28, 12.22, 27.54, 15, 17, 20.29, 19.82, 23.33, 14, 15, 28.69, 22.66, 17.83, 23.19, 21, 18.21, 14, -2, 23.82, 29.12, 14, 18, 19.16, 23.82, 27, 12.22, 16.75, 11, 21.11, 15.1, 22.82, 29.44, 22, 34.27, 23, 19.44, 32.66, 23.02, 15, 24.98, 12.79, 22.78, 32, 14.44, 9.61, 29.58, 20.09, 18, 28.58, 31, 26, 19.55, 15, 23.33, 27.2, 7.36, 22.55, 29, 18, 20, 15.78], [2.1, 4.05, 6.2, 6.2, 1.5, 4.07, 1, 4.06, 1.73, 3.1, 3.33, 1.34, 6.14, 0.89, 0.76, 2.6, 3.65, 2.1, 1.5, 10.92, 2.59, 1.5, 4.95, 3.23, 3.1, 6.11, 5.85, 8.7, 1.87, 2.41, 3.18, 3.79, 9.9, 0.68, 4.1, 5, 1, 2.1, 1, 3.89, 8.2, 9.8, 5.75, 0.63, 5.1, 1.18, 3.06, 1.47, 1.66, 1.92, 3.9, 1.57, 2.91, 0.45, 0.59, 2.11, 1.91, 5.43, 3.17, 5.1, 5.86, 2.1, 4.6, 1.5, 2.18, 5.1, 2.1, 1, 3.6, 5.1, 2.1, 0.91, 2.1, 1.84, 0.48, 1.9, 7.7, 3.02, 1.5, 3.6, 3.17, 4, 2.76, 4.6, 7.2, 1.5, 5.88, 3.14, 5.69, 3.17, 2.3, 9.8, 9.84, 1.5, 1.21, 0.67, 1.91, 9.29, 2.4, 3.91, 6.2, 2.2, 1.5, 3.45, 2.1, 1.72, 0.45, 2.25, 0.83, 0.4, 1.79, 2.28, 2.1, 1.79, 2.61, 2.6, 2.6, 1, 2.29, 8.34, 1.49, 2.68, 3.6, 2.1, 0.44, 2.68, 7.17, 3.16, 7.2, 7.27, 0.93, 0.16, 1.31, 7.2, 4.61, 3.34, 3.6, 1, 1.5, 2.61, 2.6, 3.6, 3, 0.88, 4.6, 5.5, 1, 2.73, 0.38, 0.52, 7.37, 2.1, 4.02, 3, 6.3, 4.6, 3.1, 1, 3.07, 4.6, 3.6, 1.22, 2.6, 2.6, 4.46, 0.5, 4.46, 3.15, 1.88, 6.2, 3.5, 5, 1, 2.1, 6.2, 3.1, 3, 2.57, 5.1, 1.99, 1.27, 4.4, 5.7, 1.34, 6.53, 5.69, 7.86, 0.36, 6.7, 1.79, 6.7, 4.38, 1.5, 0.88, 1.44, 1, 2.39, 1.69, 4.21, 1.27, 3.6, 7.2, 1, 3.1, 4.6, 6.2, 5.7, 3.6, 4.87, 1.78, 3.13, 7.2, 1.09, 1.5, 1.93, 1.5, 2.01, 5, 1.99, 3.71, 5.75, 8.2, 1.03, 1.03, 1.31, 6.7, 4.73, 5.33, 3.1, 1.52, 1.89, 7.37, 2.73, 2.6, 4.1, 1.5, 2.6, 7.2, 1.47, 1.54, 4.1, 2.71, 3.54, 5, 2.18, 2.1, 6.14, 1, 1.91, 2.1, 4.36, 3.86, 3.1, 5.98, 1, 1, 5.1, 2.01, 3.71, 2.1, 5.1, 0.89, 1.5, 3.43, 1.31, 3.08, 4.1, 4.6, 1.55, 0.37, 3.61, 2.6, 2.6, 1.34, 3.88, 2.6, 2.6, 1, 1.61, 7.7, 1.49, 3.75, 3.88, 1, 2.19, 0.89, 3.6, 1.25, 2.6, 1.16, 12.09, 0.85, 2.2, 5.08, 4.77, 1.92, 2.6, 2.6, 3.1, 4.6, 2.03, 1.5, 2.1, 3.37, 0.61, 1.34, 2.6, 4, 6.7, 2.1, 6.7, 4.6, 1.24, 5.25, 2.99, 1.56, 4, 1.17, 1.54, 2.37, 3.22, 1.34, 6.7, 0.76, 1.41, 4.19, 5.51, 0.44, 3.01, 2.84, 2.99, 2.6, 6.2, 8, 2.1, 9.3, 5.7, 4.1, 2.6, 2.68, 3.47, 3.13, 2.52, 4.93, 7.13, 0.39, 10.3, 3.2, 4.1, 2.6, 6.2, 2.45, 4.1, 3.09, 0.45, 1.19, 9.28, 4.49, 3.1, 1.61, 5.22, 3.1, 0.74, 2.19, 3.34, 0.12, 1.5, 1.68, 1.64, 2.1, 1.3, 1.74, 6.43, 0.49, 6.49, 4.75, 3.6, 5.02, 1.5, 4.6, 1.68, 2.22, 2.6, 0.32, 3.95, 3.46, 3.1, 3.6, 8.38, 2.17, 1.18, 4.6, 1.5, 3.6, 2.85, 5.44, 1.5, 6.98, 1.52, 1.5, 1.2, 4.6, 5.23, 4.19, 3.55, 6.2, 3.16, 4, 1.21, 7.7, 1.42, 2.1, 2.97, 2.1, 1.32, 3.75, 0.6, 2.25, 6.65, 5.1, 2.1, 0.89, 3.38, 2.38, 5.7, 1, 4.84, 1.09, 1.43, 1.34, 1.03, 3.66, 2.24, 4.92, 5.7, 2.1, 7.2, 5.1, 1.48, 4.1, 2.6, 1.86, 3.1, 2.72, 1.01, 3.13, 2.14, 1, 5.24, 4.29, 4.32, 1.29, 2.57, 4, 1.5, 6.33, 2.83, 8.39, 0.35, 2.6, 5.24, 4.33, 0.74, 4.84, 0.21, 5.07, 1.58, 3.91, 3.46, 3.81, 0.34, 4.6, 2.16, 2, 8.57, 6.21, 0.45, 6.95, 3.13, 1, 3.55, 3.18, 3.6, 4.6, 4.6, 7.84, 4.55, 1.68, 4.13, 3.1, 0.55, 4.1, 3.1, 4.83, 4.2, 2.6, 3.54, 0.48, 7.62, 4.1, 0.5, 2, 7.22, 2.08, 1.49, 2.65, 6.2, 5.7, 0.48, 1, 2.6, 0.7, 0.7, 8.7, 7.39, 3.29, 1.34, 3.6, 0.45, 5.76, 3.8, 1.19, 7.7, 8.17, 3.1, 5.7, 2.59, 4.1, 3.1, 8.52, 1.77, 1.2, 5.7, 2.19, 1.49, 2.81]])"
      ]
     },
     "execution_count": 28,
     "metadata": {},
     "output_type": "execute_result"
    }
   ],
   "source": [
    "weather_dict.values()\n"
   ]
  },
  {
   "cell_type": "code",
   "execution_count": 29,
   "metadata": {},
   "outputs": [
    {
     "data": {
      "text/html": [
       "<div>\n",
       "<style scoped>\n",
       "    .dataframe tbody tr th:only-of-type {\n",
       "        vertical-align: middle;\n",
       "    }\n",
       "\n",
       "    .dataframe tbody tr th {\n",
       "        vertical-align: top;\n",
       "    }\n",
       "\n",
       "    .dataframe thead th {\n",
       "        text-align: right;\n",
       "    }\n",
       "</style>\n",
       "<table border=\"1\" class=\"dataframe\">\n",
       "  <thead>\n",
       "    <tr style=\"text-align: right;\">\n",
       "      <th></th>\n",
       "      <th>City_ID</th>\n",
       "      <th>City</th>\n",
       "      <th>Cloudiness</th>\n",
       "      <th>Country</th>\n",
       "      <th>Date</th>\n",
       "      <th>Humidity</th>\n",
       "      <th>Lat</th>\n",
       "      <th>Lng</th>\n",
       "      <th>Max Temp</th>\n",
       "      <th>Wind Speed</th>\n",
       "    </tr>\n",
       "  </thead>\n",
       "  <tbody>\n",
       "    <tr>\n",
       "      <th>0</th>\n",
       "      <td>3874787.0</td>\n",
       "      <td>punta arenas</td>\n",
       "      <td>84.0</td>\n",
       "      <td>CL</td>\n",
       "      <td>1.596082e+09</td>\n",
       "      <td>85.0</td>\n",
       "      <td>-53.15</td>\n",
       "      <td>-70.92</td>\n",
       "      <td>0.00</td>\n",
       "      <td>2.10</td>\n",
       "    </tr>\n",
       "    <tr>\n",
       "      <th>1</th>\n",
       "      <td>476732.0</td>\n",
       "      <td>vasilsursk</td>\n",
       "      <td>62.0</td>\n",
       "      <td>RU</td>\n",
       "      <td>1.596083e+09</td>\n",
       "      <td>81.0</td>\n",
       "      <td>56.13</td>\n",
       "      <td>46.01</td>\n",
       "      <td>18.81</td>\n",
       "      <td>4.05</td>\n",
       "    </tr>\n",
       "    <tr>\n",
       "      <th>2</th>\n",
       "      <td>3833367.0</td>\n",
       "      <td>ushuaia</td>\n",
       "      <td>20.0</td>\n",
       "      <td>AR</td>\n",
       "      <td>1.596082e+09</td>\n",
       "      <td>74.0</td>\n",
       "      <td>-54.80</td>\n",
       "      <td>-68.30</td>\n",
       "      <td>3.00</td>\n",
       "      <td>6.20</td>\n",
       "    </tr>\n",
       "    <tr>\n",
       "      <th>3</th>\n",
       "      <td>4030556.0</td>\n",
       "      <td>rikitea</td>\n",
       "      <td>100.0</td>\n",
       "      <td>PF</td>\n",
       "      <td>1.596083e+09</td>\n",
       "      <td>87.0</td>\n",
       "      <td>-23.12</td>\n",
       "      <td>-134.97</td>\n",
       "      <td>22.64</td>\n",
       "      <td>6.20</td>\n",
       "    </tr>\n",
       "    <tr>\n",
       "      <th>4</th>\n",
       "      <td>3894426.0</td>\n",
       "      <td>coihaique</td>\n",
       "      <td>100.0</td>\n",
       "      <td>CL</td>\n",
       "      <td>1.596083e+09</td>\n",
       "      <td>86.0</td>\n",
       "      <td>-45.58</td>\n",
       "      <td>-72.07</td>\n",
       "      <td>-1.00</td>\n",
       "      <td>1.50</td>\n",
       "    </tr>\n",
       "    <tr>\n",
       "      <th>...</th>\n",
       "      <td>...</td>\n",
       "      <td>...</td>\n",
       "      <td>...</td>\n",
       "      <td>...</td>\n",
       "      <td>...</td>\n",
       "      <td>...</td>\n",
       "      <td>...</td>\n",
       "      <td>...</td>\n",
       "      <td>...</td>\n",
       "      <td>...</td>\n",
       "    </tr>\n",
       "    <tr>\n",
       "      <th>575</th>\n",
       "      <td>NaN</td>\n",
       "      <td>montana</td>\n",
       "      <td>NaN</td>\n",
       "      <td>NaN</td>\n",
       "      <td>NaN</td>\n",
       "      <td>NaN</td>\n",
       "      <td>NaN</td>\n",
       "      <td>NaN</td>\n",
       "      <td>NaN</td>\n",
       "      <td>NaN</td>\n",
       "    </tr>\n",
       "    <tr>\n",
       "      <th>576</th>\n",
       "      <td>NaN</td>\n",
       "      <td>thio</td>\n",
       "      <td>NaN</td>\n",
       "      <td>NaN</td>\n",
       "      <td>NaN</td>\n",
       "      <td>NaN</td>\n",
       "      <td>NaN</td>\n",
       "      <td>NaN</td>\n",
       "      <td>NaN</td>\n",
       "      <td>NaN</td>\n",
       "    </tr>\n",
       "    <tr>\n",
       "      <th>577</th>\n",
       "      <td>NaN</td>\n",
       "      <td>faya</td>\n",
       "      <td>NaN</td>\n",
       "      <td>NaN</td>\n",
       "      <td>NaN</td>\n",
       "      <td>NaN</td>\n",
       "      <td>NaN</td>\n",
       "      <td>NaN</td>\n",
       "      <td>NaN</td>\n",
       "      <td>NaN</td>\n",
       "    </tr>\n",
       "    <tr>\n",
       "      <th>578</th>\n",
       "      <td>NaN</td>\n",
       "      <td>halifax</td>\n",
       "      <td>NaN</td>\n",
       "      <td>NaN</td>\n",
       "      <td>NaN</td>\n",
       "      <td>NaN</td>\n",
       "      <td>NaN</td>\n",
       "      <td>NaN</td>\n",
       "      <td>NaN</td>\n",
       "      <td>NaN</td>\n",
       "    </tr>\n",
       "    <tr>\n",
       "      <th>579</th>\n",
       "      <td>NaN</td>\n",
       "      <td>beloha</td>\n",
       "      <td>NaN</td>\n",
       "      <td>NaN</td>\n",
       "      <td>NaN</td>\n",
       "      <td>NaN</td>\n",
       "      <td>NaN</td>\n",
       "      <td>NaN</td>\n",
       "      <td>NaN</td>\n",
       "      <td>NaN</td>\n",
       "    </tr>\n",
       "  </tbody>\n",
       "</table>\n",
       "<p>580 rows × 10 columns</p>\n",
       "</div>"
      ],
      "text/plain": [
       "       City_ID          City  Cloudiness Country          Date  Humidity  \\\n",
       "0    3874787.0  punta arenas        84.0      CL  1.596082e+09      85.0   \n",
       "1     476732.0    vasilsursk        62.0      RU  1.596083e+09      81.0   \n",
       "2    3833367.0       ushuaia        20.0      AR  1.596082e+09      74.0   \n",
       "3    4030556.0       rikitea       100.0      PF  1.596083e+09      87.0   \n",
       "4    3894426.0     coihaique       100.0      CL  1.596083e+09      86.0   \n",
       "..         ...           ...         ...     ...           ...       ...   \n",
       "575        NaN       montana         NaN     NaN           NaN       NaN   \n",
       "576        NaN          thio         NaN     NaN           NaN       NaN   \n",
       "577        NaN          faya         NaN     NaN           NaN       NaN   \n",
       "578        NaN       halifax         NaN     NaN           NaN       NaN   \n",
       "579        NaN        beloha         NaN     NaN           NaN       NaN   \n",
       "\n",
       "       Lat     Lng  Max Temp  Wind Speed  \n",
       "0   -53.15  -70.92      0.00        2.10  \n",
       "1    56.13   46.01     18.81        4.05  \n",
       "2   -54.80  -68.30      3.00        6.20  \n",
       "3   -23.12 -134.97     22.64        6.20  \n",
       "4   -45.58  -72.07     -1.00        1.50  \n",
       "..     ...     ...       ...         ...  \n",
       "575    NaN     NaN       NaN         NaN  \n",
       "576    NaN     NaN       NaN         NaN  \n",
       "577    NaN     NaN       NaN         NaN  \n",
       "578    NaN     NaN       NaN         NaN  \n",
       "579    NaN     NaN       NaN         NaN  \n",
       "\n",
       "[580 rows x 10 columns]"
      ]
     },
     "execution_count": 29,
     "metadata": {},
     "output_type": "execute_result"
    }
   ],
   "source": [
    "city =pd.DataFrame(dict([ (k,pd.Series(v)) for k,v in weather_dict.items() ]))\n",
    "city"
   ]
  },
  {
   "cell_type": "code",
   "execution_count": 30,
   "metadata": {},
   "outputs": [
    {
     "data": {
      "text/html": [
       "<div>\n",
       "<style scoped>\n",
       "    .dataframe tbody tr th:only-of-type {\n",
       "        vertical-align: middle;\n",
       "    }\n",
       "\n",
       "    .dataframe tbody tr th {\n",
       "        vertical-align: top;\n",
       "    }\n",
       "\n",
       "    .dataframe thead th {\n",
       "        text-align: right;\n",
       "    }\n",
       "</style>\n",
       "<table border=\"1\" class=\"dataframe\">\n",
       "  <thead>\n",
       "    <tr style=\"text-align: right;\">\n",
       "      <th></th>\n",
       "      <th>City_ID</th>\n",
       "      <th>City</th>\n",
       "      <th>Cloudiness</th>\n",
       "      <th>Country</th>\n",
       "      <th>Date</th>\n",
       "      <th>Humidity</th>\n",
       "      <th>Lat</th>\n",
       "      <th>Lng</th>\n",
       "      <th>Max Temp</th>\n",
       "      <th>Wind Speed</th>\n",
       "    </tr>\n",
       "  </thead>\n",
       "  <tbody>\n",
       "    <tr>\n",
       "      <th>0</th>\n",
       "      <td>3874787.0</td>\n",
       "      <td>punta arenas</td>\n",
       "      <td>84.0</td>\n",
       "      <td>CL</td>\n",
       "      <td>1.596082e+09</td>\n",
       "      <td>85.0</td>\n",
       "      <td>-53.15</td>\n",
       "      <td>-70.92</td>\n",
       "      <td>0.00</td>\n",
       "      <td>2.10</td>\n",
       "    </tr>\n",
       "    <tr>\n",
       "      <th>1</th>\n",
       "      <td>476732.0</td>\n",
       "      <td>vasilsursk</td>\n",
       "      <td>62.0</td>\n",
       "      <td>RU</td>\n",
       "      <td>1.596083e+09</td>\n",
       "      <td>81.0</td>\n",
       "      <td>56.13</td>\n",
       "      <td>46.01</td>\n",
       "      <td>18.81</td>\n",
       "      <td>4.05</td>\n",
       "    </tr>\n",
       "    <tr>\n",
       "      <th>2</th>\n",
       "      <td>3833367.0</td>\n",
       "      <td>ushuaia</td>\n",
       "      <td>20.0</td>\n",
       "      <td>AR</td>\n",
       "      <td>1.596082e+09</td>\n",
       "      <td>74.0</td>\n",
       "      <td>-54.80</td>\n",
       "      <td>-68.30</td>\n",
       "      <td>3.00</td>\n",
       "      <td>6.20</td>\n",
       "    </tr>\n",
       "    <tr>\n",
       "      <th>3</th>\n",
       "      <td>4030556.0</td>\n",
       "      <td>rikitea</td>\n",
       "      <td>100.0</td>\n",
       "      <td>PF</td>\n",
       "      <td>1.596083e+09</td>\n",
       "      <td>87.0</td>\n",
       "      <td>-23.12</td>\n",
       "      <td>-134.97</td>\n",
       "      <td>22.64</td>\n",
       "      <td>6.20</td>\n",
       "    </tr>\n",
       "    <tr>\n",
       "      <th>4</th>\n",
       "      <td>3894426.0</td>\n",
       "      <td>coihaique</td>\n",
       "      <td>100.0</td>\n",
       "      <td>CL</td>\n",
       "      <td>1.596083e+09</td>\n",
       "      <td>86.0</td>\n",
       "      <td>-45.58</td>\n",
       "      <td>-72.07</td>\n",
       "      <td>-1.00</td>\n",
       "      <td>1.50</td>\n",
       "    </tr>\n",
       "    <tr>\n",
       "      <th>...</th>\n",
       "      <td>...</td>\n",
       "      <td>...</td>\n",
       "      <td>...</td>\n",
       "      <td>...</td>\n",
       "      <td>...</td>\n",
       "      <td>...</td>\n",
       "      <td>...</td>\n",
       "      <td>...</td>\n",
       "      <td>...</td>\n",
       "      <td>...</td>\n",
       "    </tr>\n",
       "    <tr>\n",
       "      <th>531</th>\n",
       "      <td>729114.0</td>\n",
       "      <td>kutum</td>\n",
       "      <td>0.0</td>\n",
       "      <td>BG</td>\n",
       "      <td>1.596083e+09</td>\n",
       "      <td>59.0</td>\n",
       "      <td>43.41</td>\n",
       "      <td>23.23</td>\n",
       "      <td>22.55</td>\n",
       "      <td>1.20</td>\n",
       "    </tr>\n",
       "    <tr>\n",
       "      <th>532</th>\n",
       "      <td>2138103.0</td>\n",
       "      <td>rapu-rapu</td>\n",
       "      <td>77.0</td>\n",
       "      <td>NC</td>\n",
       "      <td>1.596083e+09</td>\n",
       "      <td>54.0</td>\n",
       "      <td>-21.62</td>\n",
       "      <td>166.22</td>\n",
       "      <td>29.00</td>\n",
       "      <td>5.70</td>\n",
       "    </tr>\n",
       "    <tr>\n",
       "      <th>533</th>\n",
       "      <td>110690.0</td>\n",
       "      <td>berlevag</td>\n",
       "      <td>100.0</td>\n",
       "      <td>SA</td>\n",
       "      <td>1.596083e+09</td>\n",
       "      <td>87.0</td>\n",
       "      <td>18.39</td>\n",
       "      <td>42.45</td>\n",
       "      <td>18.00</td>\n",
       "      <td>2.19</td>\n",
       "    </tr>\n",
       "    <tr>\n",
       "      <th>534</th>\n",
       "      <td>6324729.0</td>\n",
       "      <td>hailey</td>\n",
       "      <td>20.0</td>\n",
       "      <td>CA</td>\n",
       "      <td>1.596083e+09</td>\n",
       "      <td>82.0</td>\n",
       "      <td>44.65</td>\n",
       "      <td>-63.57</td>\n",
       "      <td>20.00</td>\n",
       "      <td>1.49</td>\n",
       "    </tr>\n",
       "    <tr>\n",
       "      <th>535</th>\n",
       "      <td>1067565.0</td>\n",
       "      <td>iaciara</td>\n",
       "      <td>18.0</td>\n",
       "      <td>MG</td>\n",
       "      <td>1.596083e+09</td>\n",
       "      <td>95.0</td>\n",
       "      <td>-25.17</td>\n",
       "      <td>45.05</td>\n",
       "      <td>15.78</td>\n",
       "      <td>2.81</td>\n",
       "    </tr>\n",
       "  </tbody>\n",
       "</table>\n",
       "<p>536 rows × 10 columns</p>\n",
       "</div>"
      ],
      "text/plain": [
       "       City_ID          City  Cloudiness Country          Date  Humidity  \\\n",
       "0    3874787.0  punta arenas        84.0      CL  1.596082e+09      85.0   \n",
       "1     476732.0    vasilsursk        62.0      RU  1.596083e+09      81.0   \n",
       "2    3833367.0       ushuaia        20.0      AR  1.596082e+09      74.0   \n",
       "3    4030556.0       rikitea       100.0      PF  1.596083e+09      87.0   \n",
       "4    3894426.0     coihaique       100.0      CL  1.596083e+09      86.0   \n",
       "..         ...           ...         ...     ...           ...       ...   \n",
       "531   729114.0         kutum         0.0      BG  1.596083e+09      59.0   \n",
       "532  2138103.0     rapu-rapu        77.0      NC  1.596083e+09      54.0   \n",
       "533   110690.0      berlevag       100.0      SA  1.596083e+09      87.0   \n",
       "534  6324729.0        hailey        20.0      CA  1.596083e+09      82.0   \n",
       "535  1067565.0       iaciara        18.0      MG  1.596083e+09      95.0   \n",
       "\n",
       "       Lat     Lng  Max Temp  Wind Speed  \n",
       "0   -53.15  -70.92      0.00        2.10  \n",
       "1    56.13   46.01     18.81        4.05  \n",
       "2   -54.80  -68.30      3.00        6.20  \n",
       "3   -23.12 -134.97     22.64        6.20  \n",
       "4   -45.58  -72.07     -1.00        1.50  \n",
       "..     ...     ...       ...         ...  \n",
       "531  43.41   23.23     22.55        1.20  \n",
       "532 -21.62  166.22     29.00        5.70  \n",
       "533  18.39   42.45     18.00        2.19  \n",
       "534  44.65  -63.57     20.00        1.49  \n",
       "535 -25.17   45.05     15.78        2.81  \n",
       "\n",
       "[536 rows x 10 columns]"
      ]
     },
     "execution_count": 30,
     "metadata": {},
     "output_type": "execute_result"
    }
   ],
   "source": [
    "city_clean = city.dropna()\n",
    "city_clean"
   ]
  },
  {
   "cell_type": "markdown",
   "metadata": {},
   "source": [
    "## Inspect the data and remove the cities where the humidity > 100%.\n",
    "----\n",
    "Skip this step if there are no cities that have humidity > 100%. "
   ]
  },
  {
   "cell_type": "code",
   "execution_count": 31,
   "metadata": {},
   "outputs": [
    {
     "name": "stdout",
     "output_type": "stream",
     "text": [
      "Empty DataFrame\n",
      "Columns: [City_ID, City, Cloudiness, Country, Date, Humidity, Lat, Lng, Max Temp, Wind Speed]\n",
      "Index: []\n"
     ]
    }
   ],
   "source": [
    "#  Get the indices of cities that have humidity over 100%.\n",
    "city1 = city_clean[city_clean['Humidity'] > 100] \n",
    "print(city1)"
   ]
  },
  {
   "cell_type": "code",
   "execution_count": 32,
   "metadata": {},
   "outputs": [],
   "source": [
    "# Make a new DataFrame equal to the city data to drop all humidity outliers by index.\n",
    "# Passing \"inplace=False\" will make a copy of the city_data DataFrame, which we call \"clean_city_data\".\n"
   ]
  },
  {
   "cell_type": "code",
   "execution_count": 33,
   "metadata": {},
   "outputs": [],
   "source": [
    "# Extract relevant fields from the data frame\n",
    "\n",
    "\n",
    "# Export the City_Data into a csv\n",
    "city_clean.to_csv('city_data.csv', index=False, encoding='utf-8')\n"
   ]
  },
  {
   "cell_type": "markdown",
   "metadata": {},
   "source": [
    "## Plotting the Data\n",
    "* Use proper labeling of the plots using plot titles (including date of analysis) and axes labels.\n",
    "* Save the plotted figures as .pngs."
   ]
  },
  {
   "cell_type": "markdown",
   "metadata": {},
   "source": [
    "## Latitude vs. Temperature Plot\n",
    "The temperature increases as latitudeincreases from -60 till it reaches maximum at around 40; then it starts declining again"
   ]
  },
  {
   "cell_type": "code",
   "execution_count": 34,
   "metadata": {
    "scrolled": true
   },
   "outputs": [
    {
     "data": {
      "text/plain": [
       "Text(0.5, 1.0, 'Latitude vs. Temperature')"
      ]
     },
     "execution_count": 34,
     "metadata": {},
     "output_type": "execute_result"
    },
    {
     "data": {
      "image/png": "[encoded data removed]",
      "text/plain": [
       "<Figure size 432x288 with 1 Axes>"
      ]
     },
     "metadata": {
      "needs_background": "light"
     },
     "output_type": "display_data"
    }
   ],
   "source": [
    "ax1 = city_clean.plot.scatter(x='Lat',\n",
    "                      y='Max Temp',\n",
    "                      c='DarkBlue')\n",
    "plt.title('Latitude vs. Temperature')\n"
   ]
  },
  {
   "cell_type": "markdown",
   "metadata": {},
   "source": [
    "## Latitude vs. Humidity Plot\n",
    "The plot shows no clear correlation between latitude and humidity"
   ]
  },
  {
   "cell_type": "code",
   "execution_count": 35,
   "metadata": {},
   "outputs": [
    {
     "data": {
      "text/plain": [
       "Text(0.5, 1.0, 'Latitude vs. Humidity')"
      ]
     },
     "execution_count": 35,
     "metadata": {},
     "output_type": "execute_result"
    },
    {
     "data": {
      "image/png": "[encoded data removed]",
      "text/plain": [
       "<Figure size 432x288 with 1 Axes>"
      ]
     },
     "metadata": {
      "needs_background": "light"
     },
     "output_type": "display_data"
    }
   ],
   "source": [
    "ax1 = city_clean.plot.scatter(x='Lat',\n",
    "                      y='Humidity',\n",
    "                      c='DarkBlue')\n",
    "plt.title('Latitude vs. Humidity')"
   ]
  },
  {
   "cell_type": "markdown",
   "metadata": {},
   "source": [
    "## Latitude vs. Cloudiness Plot\n",
    "The plot shows no clear correlation between latitude and cloudiness"
   ]
  },
  {
   "cell_type": "code",
   "execution_count": 36,
   "metadata": {},
   "outputs": [
    {
     "data": {
      "text/plain": [
       "Text(0.5, 1.0, 'Latitude vs. Cloudiness')"
      ]
     },
     "execution_count": 36,
     "metadata": {},
     "output_type": "execute_result"
    },
    {
     "data": {
      "image/png": "[encoded data removed]",
      "text/plain": [
       "<Figure size 432x288 with 1 Axes>"
      ]
     },
     "metadata": {
      "needs_background": "light"
     },
     "output_type": "display_data"
    }
   ],
   "source": [
    "ax1 = city_clean.plot.scatter(x='Lat',\n",
    "                      y='Cloudiness',\n",
    "                      c='DarkBlue')\n",
    "plt.title('Latitude vs. Cloudiness')"
   ]
  },
  {
   "cell_type": "markdown",
   "metadata": {},
   "source": [
    "## Latitude vs. Wind Speed Plot\n",
    "The plot shows no correlation between Latitude and Wind speed \n"
   ]
  },
  {
   "cell_type": "code",
   "execution_count": 37,
   "metadata": {},
   "outputs": [
    {
     "data": {
      "text/plain": [
       "Text(0.5, 1.0, 'Latitude vs. Wind Speed')"
      ]
     },
     "execution_count": 37,
     "metadata": {},
     "output_type": "execute_result"
    },
    {
     "data": {
      "image/png": "[encoded data removed]",
      "text/plain": [
       "<Figure size 432x288 with 1 Axes>"
      ]
     },
     "metadata": {
      "needs_background": "light"
     },
     "output_type": "display_data"
    }
   ],
   "source": [
    "ax1 = city_clean.plot.scatter(x='Lat',\n",
    "                      y='Wind Speed',\n",
    "                      c='DarkBlue')\n",
    "plt.title('Latitude vs. Wind Speed')"
   ]
  },
  {
   "cell_type": "markdown",
   "metadata": {},
   "source": [
    "## Linear Regression"
   ]
  },
  {
   "cell_type": "code",
   "execution_count": 42,
   "metadata": {},
   "outputs": [],
   "source": [
    "# OPTIONAL: Create a function to create Linear Regression plots\n",
    "def linear(x_values, y_values, title, xlabel, ylabel):\n",
    "    (slope, intercept, rvalue, pvalue, stderr) = linregress(x_values, y_values)\n",
    "    regress_values = x_values * slope + intercept\n",
    "    line_eq = \"y = \" + str(round(slope,2)) + \"x + \" + str(round(intercept,2))\n",
    "    plt.scatter(x_values,y_values, alpha=0.7)\n",
    "    plt.plot(x_values,regress_values,\"r-\")\n",
    "    plt.title(title)\n",
    "    plt.xlabel(xlabel)\n",
    "    plt.ylabel(ylabel)\n",
    "    plt.show()\n",
    "    print(f\"The r-squared is: {rvalue**2}\")\n",
    "    print(line_eq)\n",
    "    return"
   ]
  },
  {
   "cell_type": "code",
   "execution_count": 44,
   "metadata": {},
   "outputs": [
    {
     "data": {
      "text/html": [
       "<div>\n",
       "<style scoped>\n",
       "    .dataframe tbody tr th:only-of-type {\n",
       "        vertical-align: middle;\n",
       "    }\n",
       "\n",
       "    .dataframe tbody tr th {\n",
       "        vertical-align: top;\n",
       "    }\n",
       "\n",
       "    .dataframe thead th {\n",
       "        text-align: right;\n",
       "    }\n",
       "</style>\n",
       "<table border=\"1\" class=\"dataframe\">\n",
       "  <thead>\n",
       "    <tr style=\"text-align: right;\">\n",
       "      <th></th>\n",
       "      <th>City_ID</th>\n",
       "      <th>City</th>\n",
       "      <th>Cloudiness</th>\n",
       "      <th>Country</th>\n",
       "      <th>Date</th>\n",
       "      <th>Humidity</th>\n",
       "      <th>Lat</th>\n",
       "      <th>Lng</th>\n",
       "      <th>Max Temp</th>\n",
       "      <th>Wind Speed</th>\n",
       "    </tr>\n",
       "  </thead>\n",
       "  <tbody>\n",
       "    <tr>\n",
       "      <th>1</th>\n",
       "      <td>476732.0</td>\n",
       "      <td>vasilsursk</td>\n",
       "      <td>62.0</td>\n",
       "      <td>RU</td>\n",
       "      <td>1.596083e+09</td>\n",
       "      <td>81.0</td>\n",
       "      <td>56.13</td>\n",
       "      <td>46.01</td>\n",
       "      <td>18.81</td>\n",
       "      <td>4.05</td>\n",
       "    </tr>\n",
       "    <tr>\n",
       "      <th>6</th>\n",
       "      <td>684269.0</td>\n",
       "      <td>bolintin deal</td>\n",
       "      <td>0.0</td>\n",
       "      <td>RO</td>\n",
       "      <td>1.596083e+09</td>\n",
       "      <td>69.0</td>\n",
       "      <td>44.46</td>\n",
       "      <td>25.82</td>\n",
       "      <td>26.11</td>\n",
       "      <td>1.00</td>\n",
       "    </tr>\n",
       "    <tr>\n",
       "      <th>7</th>\n",
       "      <td>2015306.0</td>\n",
       "      <td>tiksi</td>\n",
       "      <td>89.0</td>\n",
       "      <td>RU</td>\n",
       "      <td>1.596083e+09</td>\n",
       "      <td>80.0</td>\n",
       "      <td>71.69</td>\n",
       "      <td>128.87</td>\n",
       "      <td>5.73</td>\n",
       "      <td>4.06</td>\n",
       "    </tr>\n",
       "    <tr>\n",
       "      <th>8</th>\n",
       "      <td>1275960.0</td>\n",
       "      <td>bhilwara</td>\n",
       "      <td>92.0</td>\n",
       "      <td>IN</td>\n",
       "      <td>1.596083e+09</td>\n",
       "      <td>73.0</td>\n",
       "      <td>25.35</td>\n",
       "      <td>74.63</td>\n",
       "      <td>28.19</td>\n",
       "      <td>1.73</td>\n",
       "    </tr>\n",
       "    <tr>\n",
       "      <th>9</th>\n",
       "      <td>5983720.0</td>\n",
       "      <td>iqaluit</td>\n",
       "      <td>75.0</td>\n",
       "      <td>CA</td>\n",
       "      <td>1.596083e+09</td>\n",
       "      <td>72.0</td>\n",
       "      <td>63.75</td>\n",
       "      <td>-68.51</td>\n",
       "      <td>15.00</td>\n",
       "      <td>3.10</td>\n",
       "    </tr>\n",
       "    <tr>\n",
       "      <th>...</th>\n",
       "      <td>...</td>\n",
       "      <td>...</td>\n",
       "      <td>...</td>\n",
       "      <td>...</td>\n",
       "      <td>...</td>\n",
       "      <td>...</td>\n",
       "      <td>...</td>\n",
       "      <td>...</td>\n",
       "      <td>...</td>\n",
       "      <td>...</td>\n",
       "    </tr>\n",
       "    <tr>\n",
       "      <th>529</th>\n",
       "      <td>60019.0</td>\n",
       "      <td>sistranda</td>\n",
       "      <td>2.0</td>\n",
       "      <td>SO</td>\n",
       "      <td>1.596083e+09</td>\n",
       "      <td>66.0</td>\n",
       "      <td>7.98</td>\n",
       "      <td>49.82</td>\n",
       "      <td>27.20</td>\n",
       "      <td>8.52</td>\n",
       "    </tr>\n",
       "    <tr>\n",
       "      <th>530</th>\n",
       "      <td>3419842.0</td>\n",
       "      <td>san carlos de bariloche</td>\n",
       "      <td>96.0</td>\n",
       "      <td>GL</td>\n",
       "      <td>1.596083e+09</td>\n",
       "      <td>76.0</td>\n",
       "      <td>66.94</td>\n",
       "      <td>-53.67</td>\n",
       "      <td>7.36</td>\n",
       "      <td>1.77</td>\n",
       "    </tr>\n",
       "    <tr>\n",
       "      <th>531</th>\n",
       "      <td>729114.0</td>\n",
       "      <td>kutum</td>\n",
       "      <td>0.0</td>\n",
       "      <td>BG</td>\n",
       "      <td>1.596083e+09</td>\n",
       "      <td>59.0</td>\n",
       "      <td>43.41</td>\n",
       "      <td>23.23</td>\n",
       "      <td>22.55</td>\n",
       "      <td>1.20</td>\n",
       "    </tr>\n",
       "    <tr>\n",
       "      <th>533</th>\n",
       "      <td>110690.0</td>\n",
       "      <td>berlevag</td>\n",
       "      <td>100.0</td>\n",
       "      <td>SA</td>\n",
       "      <td>1.596083e+09</td>\n",
       "      <td>87.0</td>\n",
       "      <td>18.39</td>\n",
       "      <td>42.45</td>\n",
       "      <td>18.00</td>\n",
       "      <td>2.19</td>\n",
       "    </tr>\n",
       "    <tr>\n",
       "      <th>534</th>\n",
       "      <td>6324729.0</td>\n",
       "      <td>hailey</td>\n",
       "      <td>20.0</td>\n",
       "      <td>CA</td>\n",
       "      <td>1.596083e+09</td>\n",
       "      <td>82.0</td>\n",
       "      <td>44.65</td>\n",
       "      <td>-63.57</td>\n",
       "      <td>20.00</td>\n",
       "      <td>1.49</td>\n",
       "    </tr>\n",
       "  </tbody>\n",
       "</table>\n",
       "<p>358 rows × 10 columns</p>\n",
       "</div>"
      ],
      "text/plain": [
       "       City_ID                     City  Cloudiness Country          Date  \\\n",
       "1     476732.0               vasilsursk        62.0      RU  1.596083e+09   \n",
       "6     684269.0            bolintin deal         0.0      RO  1.596083e+09   \n",
       "7    2015306.0                    tiksi        89.0      RU  1.596083e+09   \n",
       "8    1275960.0                 bhilwara        92.0      IN  1.596083e+09   \n",
       "9    5983720.0                  iqaluit        75.0      CA  1.596083e+09   \n",
       "..         ...                      ...         ...     ...           ...   \n",
       "529    60019.0                sistranda         2.0      SO  1.596083e+09   \n",
       "530  3419842.0  san carlos de bariloche        96.0      GL  1.596083e+09   \n",
       "531   729114.0                    kutum         0.0      BG  1.596083e+09   \n",
       "533   110690.0                 berlevag       100.0      SA  1.596083e+09   \n",
       "534  6324729.0                   hailey        20.0      CA  1.596083e+09   \n",
       "\n",
       "     Humidity    Lat     Lng  Max Temp  Wind Speed  \n",
       "1        81.0  56.13   46.01     18.81        4.05  \n",
       "6        69.0  44.46   25.82     26.11        1.00  \n",
       "7        80.0  71.69  128.87      5.73        4.06  \n",
       "8        73.0  25.35   74.63     28.19        1.73  \n",
       "9        72.0  63.75  -68.51     15.00        3.10  \n",
       "..        ...    ...     ...       ...         ...  \n",
       "529      66.0   7.98   49.82     27.20        8.52  \n",
       "530      76.0  66.94  -53.67      7.36        1.77  \n",
       "531      59.0  43.41   23.23     22.55        1.20  \n",
       "533      87.0  18.39   42.45     18.00        2.19  \n",
       "534      82.0  44.65  -63.57     20.00        1.49  \n",
       "\n",
       "[358 rows x 10 columns]"
      ]
     },
     "execution_count": 44,
     "metadata": {},
     "output_type": "execute_result"
    }
   ],
   "source": [
    "# Create Northern and Southern Hemisphere DataFrames\n",
    "north_hem = city_clean[city_clean['Lat'] > 0] \n",
    "north_hem"
   ]
  },
  {
   "cell_type": "code",
   "execution_count": 45,
   "metadata": {},
   "outputs": [
    {
     "data": {
      "text/html": [
       "<div>\n",
       "<style scoped>\n",
       "    .dataframe tbody tr th:only-of-type {\n",
       "        vertical-align: middle;\n",
       "    }\n",
       "\n",
       "    .dataframe tbody tr th {\n",
       "        vertical-align: top;\n",
       "    }\n",
       "\n",
       "    .dataframe thead th {\n",
       "        text-align: right;\n",
       "    }\n",
       "</style>\n",
       "<table border=\"1\" class=\"dataframe\">\n",
       "  <thead>\n",
       "    <tr style=\"text-align: right;\">\n",
       "      <th></th>\n",
       "      <th>City_ID</th>\n",
       "      <th>City</th>\n",
       "      <th>Cloudiness</th>\n",
       "      <th>Country</th>\n",
       "      <th>Date</th>\n",
       "      <th>Humidity</th>\n",
       "      <th>Lat</th>\n",
       "      <th>Lng</th>\n",
       "      <th>Max Temp</th>\n",
       "      <th>Wind Speed</th>\n",
       "    </tr>\n",
       "  </thead>\n",
       "  <tbody>\n",
       "    <tr>\n",
       "      <th>0</th>\n",
       "      <td>3874787.0</td>\n",
       "      <td>punta arenas</td>\n",
       "      <td>84.0</td>\n",
       "      <td>CL</td>\n",
       "      <td>1.596082e+09</td>\n",
       "      <td>85.0</td>\n",
       "      <td>-53.15</td>\n",
       "      <td>-70.92</td>\n",
       "      <td>0.00</td>\n",
       "      <td>2.10</td>\n",
       "    </tr>\n",
       "    <tr>\n",
       "      <th>2</th>\n",
       "      <td>3833367.0</td>\n",
       "      <td>ushuaia</td>\n",
       "      <td>20.0</td>\n",
       "      <td>AR</td>\n",
       "      <td>1.596082e+09</td>\n",
       "      <td>74.0</td>\n",
       "      <td>-54.80</td>\n",
       "      <td>-68.30</td>\n",
       "      <td>3.00</td>\n",
       "      <td>6.20</td>\n",
       "    </tr>\n",
       "    <tr>\n",
       "      <th>3</th>\n",
       "      <td>4030556.0</td>\n",
       "      <td>rikitea</td>\n",
       "      <td>100.0</td>\n",
       "      <td>PF</td>\n",
       "      <td>1.596083e+09</td>\n",
       "      <td>87.0</td>\n",
       "      <td>-23.12</td>\n",
       "      <td>-134.97</td>\n",
       "      <td>22.64</td>\n",
       "      <td>6.20</td>\n",
       "    </tr>\n",
       "    <tr>\n",
       "      <th>4</th>\n",
       "      <td>3894426.0</td>\n",
       "      <td>coihaique</td>\n",
       "      <td>100.0</td>\n",
       "      <td>CL</td>\n",
       "      <td>1.596083e+09</td>\n",
       "      <td>86.0</td>\n",
       "      <td>-45.58</td>\n",
       "      <td>-72.07</td>\n",
       "      <td>-1.00</td>\n",
       "      <td>1.50</td>\n",
       "    </tr>\n",
       "    <tr>\n",
       "      <th>5</th>\n",
       "      <td>2206939.0</td>\n",
       "      <td>bluff</td>\n",
       "      <td>100.0</td>\n",
       "      <td>NZ</td>\n",
       "      <td>1.596083e+09</td>\n",
       "      <td>73.0</td>\n",
       "      <td>-46.60</td>\n",
       "      <td>168.33</td>\n",
       "      <td>12.44</td>\n",
       "      <td>4.07</td>\n",
       "    </tr>\n",
       "    <tr>\n",
       "      <th>...</th>\n",
       "      <td>...</td>\n",
       "      <td>...</td>\n",
       "      <td>...</td>\n",
       "      <td>...</td>\n",
       "      <td>...</td>\n",
       "      <td>...</td>\n",
       "      <td>...</td>\n",
       "      <td>...</td>\n",
       "      <td>...</td>\n",
       "      <td>...</td>\n",
       "    </tr>\n",
       "    <tr>\n",
       "      <th>521</th>\n",
       "      <td>3449195.0</td>\n",
       "      <td>nybro</td>\n",
       "      <td>32.0</td>\n",
       "      <td>BR</td>\n",
       "      <td>1.596083e+09</td>\n",
       "      <td>87.0</td>\n",
       "      <td>-21.65</td>\n",
       "      <td>-41.75</td>\n",
       "      <td>20.09</td>\n",
       "      <td>1.19</td>\n",
       "    </tr>\n",
       "    <tr>\n",
       "      <th>522</th>\n",
       "      <td>3904906.0</td>\n",
       "      <td>port-cartier</td>\n",
       "      <td>75.0</td>\n",
       "      <td>BO</td>\n",
       "      <td>1.596083e+09</td>\n",
       "      <td>28.0</td>\n",
       "      <td>-17.80</td>\n",
       "      <td>-63.17</td>\n",
       "      <td>18.00</td>\n",
       "      <td>7.70</td>\n",
       "    </tr>\n",
       "    <tr>\n",
       "      <th>526</th>\n",
       "      <td>1065158.0</td>\n",
       "      <td>cape coast</td>\n",
       "      <td>82.0</td>\n",
       "      <td>MG</td>\n",
       "      <td>1.596083e+09</td>\n",
       "      <td>92.0</td>\n",
       "      <td>-22.82</td>\n",
       "      <td>47.83</td>\n",
       "      <td>19.55</td>\n",
       "      <td>2.59</td>\n",
       "    </tr>\n",
       "    <tr>\n",
       "      <th>532</th>\n",
       "      <td>2138103.0</td>\n",
       "      <td>rapu-rapu</td>\n",
       "      <td>77.0</td>\n",
       "      <td>NC</td>\n",
       "      <td>1.596083e+09</td>\n",
       "      <td>54.0</td>\n",
       "      <td>-21.62</td>\n",
       "      <td>166.22</td>\n",
       "      <td>29.00</td>\n",
       "      <td>5.70</td>\n",
       "    </tr>\n",
       "    <tr>\n",
       "      <th>535</th>\n",
       "      <td>1067565.0</td>\n",
       "      <td>iaciara</td>\n",
       "      <td>18.0</td>\n",
       "      <td>MG</td>\n",
       "      <td>1.596083e+09</td>\n",
       "      <td>95.0</td>\n",
       "      <td>-25.17</td>\n",
       "      <td>45.05</td>\n",
       "      <td>15.78</td>\n",
       "      <td>2.81</td>\n",
       "    </tr>\n",
       "  </tbody>\n",
       "</table>\n",
       "<p>178 rows × 10 columns</p>\n",
       "</div>"
      ],
      "text/plain": [
       "       City_ID          City  Cloudiness Country          Date  Humidity  \\\n",
       "0    3874787.0  punta arenas        84.0      CL  1.596082e+09      85.0   \n",
       "2    3833367.0       ushuaia        20.0      AR  1.596082e+09      74.0   \n",
       "3    4030556.0       rikitea       100.0      PF  1.596083e+09      87.0   \n",
       "4    3894426.0     coihaique       100.0      CL  1.596083e+09      86.0   \n",
       "5    2206939.0         bluff       100.0      NZ  1.596083e+09      73.0   \n",
       "..         ...           ...         ...     ...           ...       ...   \n",
       "521  3449195.0         nybro        32.0      BR  1.596083e+09      87.0   \n",
       "522  3904906.0  port-cartier        75.0      BO  1.596083e+09      28.0   \n",
       "526  1065158.0    cape coast        82.0      MG  1.596083e+09      92.0   \n",
       "532  2138103.0     rapu-rapu        77.0      NC  1.596083e+09      54.0   \n",
       "535  1067565.0       iaciara        18.0      MG  1.596083e+09      95.0   \n",
       "\n",
       "       Lat     Lng  Max Temp  Wind Speed  \n",
       "0   -53.15  -70.92      0.00        2.10  \n",
       "2   -54.80  -68.30      3.00        6.20  \n",
       "3   -23.12 -134.97     22.64        6.20  \n",
       "4   -45.58  -72.07     -1.00        1.50  \n",
       "5   -46.60  168.33     12.44        4.07  \n",
       "..     ...     ...       ...         ...  \n",
       "521 -21.65  -41.75     20.09        1.19  \n",
       "522 -17.80  -63.17     18.00        7.70  \n",
       "526 -22.82   47.83     19.55        2.59  \n",
       "532 -21.62  166.22     29.00        5.70  \n",
       "535 -25.17   45.05     15.78        2.81  \n",
       "\n",
       "[178 rows x 10 columns]"
      ]
     },
     "execution_count": 45,
     "metadata": {},
     "output_type": "execute_result"
    }
   ],
   "source": [
    "south_hem = city_clean[city_clean['Lat'] < 0] \n",
    "south_hem"
   ]
  },
  {
   "cell_type": "markdown",
   "metadata": {},
   "source": [
    "####  Northern Hemisphere - Max Temp vs. Latitude Linear Regression"
   ]
  },
  {
   "cell_type": "code",
   "execution_count": 47,
   "metadata": {},
   "outputs": [
    {
     "data": {
      "image/png": "[encoded data removed]",
      "text/plain": [
       "<Figure size 432x288 with 1 Axes>"
      ]
     },
     "metadata": {
      "needs_background": "light"
     },
     "output_type": "display_data"
    },
    {
     "name": "stdout",
     "output_type": "stream",
     "text": [
      "The r-squared is: 0.48757102851934214\n",
      "y = -0.24x + 31.32\n"
     ]
    }
   ],
   "source": [
    "linear(north_hem['Lat'], north_hem['Max Temp'], \"Northern Hemisphere - Max Temp vs. Latitude\", \"Latitude\", \"Maximum Temperature\" )"
   ]
  },
  {
   "cell_type": "markdown",
   "metadata": {},
   "source": [
    "####  Southern Hemisphere - Max Temp vs. Latitude Linear Regression"
   ]
  },
  {
   "cell_type": "code",
   "execution_count": 48,
   "metadata": {},
   "outputs": [
    {
     "data": {
      "image/png": "[encoded data removed]",
      "text/plain": [
       "<Figure size 432x288 with 1 Axes>"
      ]
     },
     "metadata": {
      "needs_background": "light"
     },
     "output_type": "display_data"
    },
    {
     "name": "stdout",
     "output_type": "stream",
     "text": [
      "The r-squared is: 0.502662646578239\n",
      "y = 0.42x + 26.82\n"
     ]
    }
   ],
   "source": [
    "linear(south_hem['Lat'], south_hem['Max Temp'], \"Southern Hemisphere - Max Temp vs. Latitude\", \"Latitude\", \"Maximum Temperature\")"
   ]
  },
  {
   "cell_type": "markdown",
   "metadata": {},
   "source": [
    "##### The temperature increases as latitude increases till it peaks at 0; then, it starts declining again"
   ]
  },
  {
   "cell_type": "markdown",
   "metadata": {},
   "source": [
    "####  Northern Hemisphere - Humidity (%) vs. Latitude Linear Regression"
   ]
  },
  {
   "cell_type": "code",
   "execution_count": 49,
   "metadata": {},
   "outputs": [
    {
     "data": {
      "image/png": "[encoded data removed]",
      "text/plain": [
       "<Figure size 432x288 with 1 Axes>"
      ]
     },
     "metadata": {
      "needs_background": "light"
     },
     "output_type": "display_data"
    },
    {
     "name": "stdout",
     "output_type": "stream",
     "text": [
      "The r-squared is: 0.0018688447325599406\n",
      "y = -0.04x + 74.09\n"
     ]
    }
   ],
   "source": [
    "linear(north_hem['Lat'], north_hem['Humidity'], \"Northern Hemisphere - Humidity (%) vs. Latitude\", \"Latitude\", \"Humidity\")"
   ]
  },
  {
   "cell_type": "markdown",
   "metadata": {},
   "source": [
    "####  Southern Hemisphere - Humidity (%) vs. Latitude Linear Regression"
   ]
  },
  {
   "cell_type": "code",
   "execution_count": 50,
   "metadata": {},
   "outputs": [
    {
     "data": {
      "image/png": "[encoded data removed]",
      "text/plain": [
       "<Figure size 432x288 with 1 Axes>"
      ]
     },
     "metadata": {
      "needs_background": "light"
     },
     "output_type": "display_data"
    },
    {
     "name": "stdout",
     "output_type": "stream",
     "text": [
      "The r-squared is: 0.00045856582517848535\n",
      "y = -0.03x + 69.77\n"
     ]
    }
   ],
   "source": [
    "linear(south_hem['Lat'], south_hem['Humidity'], \"Southern Hemisphere - Humidity (%) vs. Latitude\", \"Latitude\", \"Humidity\")"
   ]
  },
  {
   "cell_type": "markdown",
   "metadata": {},
   "source": [
    "#### The plots show no correlation between Latitude and Humidity "
   ]
  },
  {
   "cell_type": "markdown",
   "metadata": {},
   "source": [
    "####  Northern Hemisphere - Cloudiness (%) vs. Latitude Linear Regression"
   ]
  },
  {
   "cell_type": "code",
   "execution_count": 51,
   "metadata": {},
   "outputs": [
    {
     "data": {
      "image/png": "[encoded data removed]",
      "text/plain": [
       "<Figure size 432x288 with 1 Axes>"
      ]
     },
     "metadata": {
      "needs_background": "light"
     },
     "output_type": "display_data"
    },
    {
     "name": "stdout",
     "output_type": "stream",
     "text": [
      "The r-squared is: 0.0019298513034778533\n",
      "y = -0.08x + 56.32\n"
     ]
    }
   ],
   "source": [
    "linear(north_hem['Lat'], north_hem['Cloudiness'], \"Northern Hemisphere - Cloudiness (%) vs. Latitude\", \"Latitude\", \"Cloudiness\")"
   ]
  },
  {
   "cell_type": "markdown",
   "metadata": {},
   "source": [
    "####  Southern Hemisphere - Cloudiness (%) vs. Latitude Linear Regression"
   ]
  },
  {
   "cell_type": "code",
   "execution_count": 52,
   "metadata": {},
   "outputs": [
    {
     "data": {
      "image/png": "[encoded data removed]",
      "text/plain": [
       "<Figure size 432x288 with 1 Axes>"
      ]
     },
     "metadata": {
      "needs_background": "light"
     },
     "output_type": "display_data"
    },
    {
     "name": "stdout",
     "output_type": "stream",
     "text": [
      "The r-squared is: 0.006689301487019511\n",
      "y = -0.24x + 36.62\n"
     ]
    }
   ],
   "source": [
    "linear(south_hem['Lat'], south_hem['Cloudiness'], \"Southern Hemisphere - Cloudiness (%) vs. Latitude\", \"Latitude\", \"Cloudiness\")"
   ]
  },
  {
   "cell_type": "markdown",
   "metadata": {},
   "source": [
    "#### The plots show no correlation between latitude and cloudiness "
   ]
  },
  {
   "cell_type": "markdown",
   "metadata": {},
   "source": [
    "####  Northern Hemisphere - Wind Speed (mph) vs. Latitude Linear Regression"
   ]
  },
  {
   "cell_type": "code",
   "execution_count": 53,
   "metadata": {},
   "outputs": [
    {
     "data": {
      "image/png": "[encoded data removed]",
      "text/plain": [
       "<Figure size 432x288 with 1 Axes>"
      ]
     },
     "metadata": {
      "needs_background": "light"
     },
     "output_type": "display_data"
    },
    {
     "name": "stdout",
     "output_type": "stream",
     "text": [
      "The r-squared is: 0.005946931078791073\n",
      "y = -0.01x + 3.64\n"
     ]
    }
   ],
   "source": [
    "linear(north_hem['Lat'], north_hem['Wind Speed'], \"Northern Hemisphere - Wind Speed (mph) vs. Latitude\", \"Latitude\", \"Wind Speed(mph)\")"
   ]
  },
  {
   "cell_type": "markdown",
   "metadata": {},
   "source": [
    "####  Southern Hemisphere - Wind Speed (mph) vs. Latitude Linear Regression"
   ]
  },
  {
   "cell_type": "code",
   "execution_count": 54,
   "metadata": {},
   "outputs": [
    {
     "data": {
      "image/png": "[encoded data removed]",
      "text/plain": [
       "<Figure size 432x288 with 1 Axes>"
      ]
     },
     "metadata": {
      "needs_background": "light"
     },
     "output_type": "display_data"
    },
    {
     "name": "stdout",
     "output_type": "stream",
     "text": [
      "The r-squared is: 0.00046788410601747963\n",
      "y = -0.0x + 3.22\n"
     ]
    }
   ],
   "source": [
    "linear(south_hem['Lat'], south_hem['Wind Speed'], \"Southern Hemisphere - Wind Speed (mph) vs. Latitude\", \"Latitude\", \"Wind Speed(mph)\")"
   ]
  },
  {
   "cell_type": "markdown",
   "metadata": {},
   "source": [
    "#### The plots show no correlation between latitude and wind speed"
   ]
  },
  {
   "cell_type": "code",
   "execution_count": null,
   "metadata": {},
   "outputs": [],
   "source": []
  }
 ],
 "metadata": {
  "anaconda-cloud": {},
  "kernel_info": {
   "name": "python3"
  },
  "kernelspec": {
   "display_name": "Python 3",
   "language": "python",
   "name": "python3"
  },
  "language_info": {
   "codemirror_mode": {
    "name": "ipython",
    "version": 3
   },
   "file_extension": ".py",
   "mimetype": "text/x-python",
   "name": "python",
   "nbconvert_exporter": "python",
   "pygments_lexer": "ipython3",
   "version": "3.7.6"
  },
  "latex_envs": {
   "LaTeX_envs_menu_present": true,
   "autoclose": false,
   "autocomplete": true,
   "bibliofile": "biblio.bib",
   "cite_by": "apalike",
   "current_citInitial": 1,
   "eqLabelWithNumbers": true,
   "eqNumInitial": 1,
   "hotkeys": {
    "equation": "Ctrl-E",
    "itemize": "Ctrl-I"
   },
   "labels_anchors": false,
   "latex_user_defs": false,
   "report_style_numbering": false,
   "user_envs_cfg": false
  },
  "nteract": {
   "version": "0.12.3"
  }
 },
 "nbformat": 4,
 "nbformat_minor": 2
}
